{
 "cells": [
  {
   "cell_type": "code",
   "execution_count": 11,
   "id": "drawn-shannon",
   "metadata": {},
   "outputs": [],
   "source": [
    "from sklearn.datasets import fetch_20newsgroups\n",
    "from sklearn.feature_extraction.text import CountVectorizer\n",
    "import numpy as np\n",
    "import matplotlib.pyplot as plt\n",
    "\n",
    "twenty_train = fetch_20newsgroups(subset='train', shuffle=True, remove = ('headers', 'footers'))\n",
    "targets_train = twenty_train['target']\n",
    "\n",
    "twenty_test = fetch_20newsgroups(subset = 'test', remove = ('headers', 'footers'))\n",
    "targets_test = twenty_test['target']\n",
    "\n",
    "groups = np.arange(20)\n",
    "priori = np.mean(targets_train == groups.reshape(-1, 1), axis = 1)\n",
    "\n",
    "#base = np.arange(targets_test.size)\n",
    "#val_idx = np.random.choice(base, size = int(targets_test.size / 2), replace = False)\n",
    "#test_idx = base[np.all(base != val_idx.reshape(-1, 1), axis = 0)]\n",
    "#val_idx = [0]#np.arange(int(targets_test.size / 2))\n",
    "test_idx = np.arange(targets_test.size)\n",
    "\n",
    "def attempt(smoothing, **kwargs):\n",
    "    cv = CountVectorizer(**kwargs, stop_words = 'english')\n",
    "    fitted = cv.fit_transform(twenty_train['data'])\n",
    "    \n",
    "    #f2 = fitted.toarray()\n",
    "    #words = np.array(cv.get_feature_names())\n",
    "\n",
    "    probabilities = np.zeros((20, fitted.shape[1]))\n",
    "    \n",
    "    #df = np.count_nonzero(f2, axis = 0) / targets_train.size\n",
    "    #plt.hist(df * 100, bins = 80)\n",
    "    #plt.yscale('log')\n",
    "    #plt.xlabel('%')\n",
    "    #plt.ylabel('Repeticiones')\n",
    "   \n",
    "    for group in groups:\n",
    "        row = fitted[targets_train == group].sum(axis = 0) + smoothing\n",
    "        probabilities[group] = row[0] / row.sum()\n",
    "\n",
    "    #np.delete(f2)\n",
    "    #del words\n",
    "    fitted_test = cv.transform(twenty_test['data']).toarray().T\n",
    "        \n",
    "    #probs_validation = np.dot(np.log(probabilities), fitted_test[:, val_idx]) + np.log(priori).reshape(-1, 1)\n",
    "    probs_test = np.dot(np.log(probabilities), fitted_test) + np.log(priori).reshape(-1, 1)\n",
    "\n",
    "    #pred_validation = np.argmax(probs_validation, axis = 0)\n",
    "    pred_test = np.argmax(probs_test, axis = 0)\n",
    "\n",
    "    #acc_validation = np.mean(pred_validation == targets_test[val_idx])\n",
    "    acc_test = np.mean(pred_test == targets_test)\n",
    "    \n",
    "    return {'Test': (acc_test * 100).round(2)}"
   ]
  },
  {
   "cell_type": "code",
   "execution_count": 12,
   "id": "seasonal-cradle",
   "metadata": {},
   "outputs": [
    {
     "name": "stdout",
     "output_type": "stream",
     "text": [
      "{'Test': 76.95}\n"
     ]
    }
   ],
   "source": [
    "d = 700\n",
    "s = .1\n",
    "print(attempt(min_df = 1, max_df = d, smoothing = s))"
   ]
  },
  {
   "cell_type": "code",
   "execution_count": null,
   "id": "south-plasma",
   "metadata": {},
   "outputs": [],
   "source": [
    "sens_tot = []\n",
    "especif_tot = []\n",
    "vp_tot = []\n",
    "vn_tot = []\n",
    "\n",
    "for i in range(20):\n",
    "    targets_ok = targets_test == i\n",
    "    pred_ok = pred == i\n",
    "    VP = np.sum(targets_ok & pred_ok)\n",
    "    VN = np.sum(~targets_ok & ~pred_ok)\n",
    "    FP = np.sum(~targets_ok & pred_ok)\n",
    "    FN = np.sum(targets_ok & ~pred_ok)\n",
    "    \n",
    "    sens_tot.append(VP / (VP + FN))\n",
    "    especif_tot.append(VN / (VN + FP))\n",
    "    vp_tot.append(VP / (VP + FP))\n",
    "    vn_tot.append(VN / (VN + FN))\n",
    "    \n",
    "print(f'Sensibilidad: {np.round(np.mean(sens_tot) * 100, 2)}%')\n",
    "\n",
    "# No tiene sentido, porque son 20 clases. Obvio que va a dar alto.\n",
    "print(f'Especificidad: {np.round(np.mean(especif_tot) * 100, 2)}%') \n",
    "\n",
    "print(f'Valor predictivo positivo: {np.round(np.mean(vp_tot) * 100, 2)}%')\n",
    "\n",
    "# No tiene sentido, porque son 20 clases. Obvio que va a dar alto.\n",
    "print(f'Valor predictivo negativo: {np.round(np.mean(vn_tot) * 100, 2)}%')"
   ]
  },
  {
   "cell_type": "markdown",
   "id": "stainless-payday",
   "metadata": {},
   "source": [
    "## Preguntas\n",
    "- $\\textbf{Parte 1}$:\n",
    "    - ¿Va bien 79.3%?\n",
    "    - ¿Qué más podemos hacer para subirlo?\n",
    "    - ¿Está bien usar accuracy?\n",
    "    - ¿Para las otras métricas está bien sacar el promedio?\n",
    "    \n",
    "- $\\textbf{Parte 2}$:\n",
    "    - ¿Podemos sacar el priori si da peores resultados?\n",
    "    - ¿Está bien elegida la sensibilidad como métrica?\n",
    "    - ¿Está bien reemplazar a los NaN por la media según la clase?    "
   ]
  },
  {
   "cell_type": "code",
   "execution_count": null,
   "id": "architectural-creek",
   "metadata": {},
   "outputs": [],
   "source": [
    "print(twenty_train['DESCR'])"
   ]
  },
  {
   "cell_type": "code",
   "execution_count": 4,
   "id": "complicated-district",
   "metadata": {},
   "outputs": [
    {
     "name": "stdout",
     "output_type": "stream",
     "text": [
      "['alt.atheism', 'comp.graphics', 'comp.os.ms-windows.misc', 'comp.sys.ibm.pc.hardware', 'comp.sys.mac.hardware', 'comp.windows.x', 'misc.forsale', 'rec.autos', 'rec.motorcycles', 'rec.sport.baseball', 'rec.sport.hockey', 'sci.crypt', 'sci.electronics', 'sci.med', 'sci.space', 'soc.religion.christian', 'talk.politics.guns', 'talk.politics.mideast', 'talk.politics.misc', 'talk.religion.misc']\n"
     ]
    }
   ],
   "source": [
    "print(twenty_train['target_names'])"
   ]
  },
  {
   "cell_type": "code",
   "execution_count": null,
   "id": "reliable-escape",
   "metadata": {},
   "outputs": [],
   "source": []
  }
 ],
 "metadata": {
  "kernelspec": {
   "display_name": "Python 3",
   "language": "python",
   "name": "python3"
  },
  "language_info": {
   "codemirror_mode": {
    "name": "ipython",
    "version": 3
   },
   "file_extension": ".py",
   "mimetype": "text/x-python",
   "name": "python",
   "nbconvert_exporter": "python",
   "pygments_lexer": "ipython3",
   "version": "3.9.2"
  }
 },
 "nbformat": 4,
 "nbformat_minor": 5
}
