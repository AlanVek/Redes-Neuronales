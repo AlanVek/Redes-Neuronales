{
 "cells": [
  {
   "cell_type": "markdown",
   "id": "alert-roommate",
   "metadata": {},
   "source": [
    "# Redes Neuronales - Trabajo Práctico N°1\n",
    "\n",
    "## Ejercicio 1: Clasificador de texto"
   ]
  },
  {
   "cell_type": "markdown",
   "id": "ceramic-vegetation",
   "metadata": {},
   "source": [
    "### 1. Introducción\n",
    "<div style=\"text-align:justify; text-indent: 25px\">\n",
    "En este ejercicio se propuso entrenar un modelo que clasifique textos en 20 categorías, provistas por la librería \"sklearn\". Para importar los datos se usa la función \"fetch_20newsgroups\" con parámetros train y test, dependiendo del caso, como se puede ver en el siguiente bloque de código. \n",
    "</div>\n",
    "\n",
    "<div style=\"text-align:justify; text-indent: 25px\">\n",
    "Los archivos \"train_data.txt\" y \"test_data.txt\" son los datos de \"fetch_20newsgroups\" ya lematizados con el WordNetLemmatizer del Natural Language Toolkit (nltk). Cada una de las líneas de cada uno de los archivos corresponde a la versión lematizada de cada uno de los textos, con lo cual se los puede separar con el método \"splitLines\" de la clase string.\n",
    "</div>"
   ]
  },
  {
   "cell_type": "code",
   "execution_count": 1,
   "id": "light-capitol",
   "metadata": {},
   "outputs": [],
   "source": [
    "from sklearn.datasets import fetch_20newsgroups\n",
    "from sklearn.feature_extraction.text import TfidfVectorizer, CountVectorizer\n",
    "from sklearn.model_selection import train_test_split\n",
    "import numpy as np\n",
    "import matplotlib.pyplot as plt\n",
    "\n",
    "twenty_train = fetch_20newsgroups(subset='train', shuffle=True, remove = ('headers', 'footers'))\n",
    "targets_train = twenty_train['target']\n",
    "\n",
    "twenty_test = fetch_20newsgroups(subset = 'test', remove = ('headers', 'footers'))\n",
    "targets_test = twenty_test['target']\n",
    "\n",
    "with open('Lemmatized/train_data.txt', 'rt') as file: train_data = file.read().splitlines()\n",
    "with open('Lemmatized/test_data.txt', 'rt') as file: test_data = file.read().splitlines() "
   ]
  },
  {
   "cell_type": "markdown",
   "id": "rapid-canadian",
   "metadata": {},
   "source": [
    "### 2. Implementación\n",
    "<div style=\"text-align:justify; text-indent: 25px\">\n",
    "Luego se define la clase \"NewsClassifier\", cuyo constructor recibe los parámetros que serán provistos al \"TfidfVectorizer\". Esta estructura se implementó para poder tener un modelo dinámico con hiperparámetros fácilmente modificables. Entre éstos se encontrarán: \n",
    "</div>\n",
    "\n",
    "- $\\textit{max_idf}$: Máxima frecuencia entre documentos permitida;\n",
    "- $\\textit{min_idf}$: Minima frecuencia entre documentos permitida;\n",
    "- $\\textit{sublinear_tf}$: Suavizado para grandes frecuencias de términos;\n",
    "- $\\textit{use_idf/smooth_idf}$: Uso de idf y suavizado para evitar divisiones por cero;\n",
    "- $\\textit{norm}$: Normalización (norma 1 o norma 2).\n",
    "\n",
    "#### 2.1. Entrenamiento\n",
    "<div style=\"text-align:justify; text-indent: 25px\">\n",
    "En primer lugar se le aplica la vertorización \"TF-IDF\" a los datos de entrenamiento, usando los parámetros pasados en el constructor. Esto nos dará una matriz esparza con puntajes: sus filas y columnas serán los textos y las palabras, respectivamente. Luego se guardan las probabilidades a priori de cada una de las clases. \n",
    "</div> "
   ]
  },
  {
   "cell_type": "markdown",
   "id": "furnished-environment",
   "metadata": {},
   "source": [
    "<div style=\"text-align:justify; text-indent: 25px\">\n",
    "Paralelamente, se define una matriz de probabilidades de dimensión 20xN, donde \"N\" es la cantidad de palabras en el vocabulario, y se itera sobre cada una de las clases. En cada una de estas iteraciones, se suman los puntajes de cada una de las palabras en noticias de la clase por la cual se está iterando. A este resultado se le aplica un factor de $\\textit{smoothing}$, con el propósito de evitar probabilidades iguales a cero. Finalmente, se divide a este vector de puntajes por la suma de todos sus componentes, para convertirlo en probabilidades. Este resultado final se guarda en la fila correspondiente de la matriz de probabilidades. Luego de iterar por todas las clases, el modelo queda entrenado y está apto para realizar predicciones.\n",
    "</div>"
   ]
  },
  {
   "cell_type": "markdown",
   "id": "economic-greek",
   "metadata": {},
   "source": [
    "#### 2.2. Predicción\n",
    "\n",
    "<div style=\"text-align:justify; text-indent: 25px\">\n",
    "    Para predicir, primero se tomarán los textos a clasificar y se guardarán las repeticiones de cada palabra en cada noticia en en una matriz esparza. Cabe destacar que sólo serán tenidas en cuenta las palabras con las que el modelo fue entrenado. Con el proposito de utilizar \"Naive Bayes\", se quiere aplicar la siguiente fórmula:\n",
    "</div>"
   ]
  },
  {
   "cell_type": "markdown",
   "id": "compliant-alliance",
   "metadata": {},
   "source": [
    "<center>\n",
    "    $P(x_1,x_2,...,x_N|y) = \\prod_{i=1}^N P(x_i|y)^{n_{ij}}$\n",
    "</center>\n"
   ]
  },
  {
   "cell_type": "markdown",
   "id": "distinguished-defendant",
   "metadata": {},
   "source": [
    "<div style=\"text-align:justify; text-indent: 25px\">\n",
    "    Donde $x_i$ es cada una de la palabras del vocabulario y $n_{ij}$ la cantidad de repeticiones de la palabra $x_i$ en el texto \"j\". Esta probabilidad obtenida será el likelihood naive, asumiendo independencia y approach BOW. Luego, se calcula este likelihood para cada una de las clases \"y\", y a cada una se la multiplica por su probabilidad a priori obtenida durante el entrenamiento. Finalmente se dirá que el texto pertenecerá a la clase con mayor probabilidad a posteriori, o sea, $P(y|x_1,x_2,...,x_N)$, que será proporcional a $P(x_1,x_2,...,x_N|y)\\cdot P(y)$.\n",
    "</div>"
   ]
  },
  {
   "cell_type": "markdown",
   "id": "worse-banana",
   "metadata": {},
   "source": [
    "<div style=\"text-align:justify; text-indent: 25px\">\n",
    "El único cambio que en este trabajo se le aplicó a la fórmula de Naive Bayes fue el hecho de comparar los logaritmos de $P(y|x)$. Esto se decidió hacer así para evitar tener números muy pequeños debido a los productos de las probabilidades. Por lo tanto, la fórmula de Naive Bayes se reescribe de la siguiente forma:\n",
    "</div>"
   ]
  },
  {
   "cell_type": "markdown",
   "id": "solved-truth",
   "metadata": {},
   "source": [
    "<center>\n",
    "    $\\log(P(y|x)) = \\log(P(y)) + \\sum_{i=1}^N n_{ij}\\cdot \\log(P(x_i|y))$\n",
    "</center>"
   ]
  },
  {
   "cell_type": "markdown",
   "id": "grateful-charge",
   "metadata": {},
   "source": [
    "<div style=\"text-align:justify; text-indent: 25px\">\n",
    "En la fórmula anterior se puede ver la necesidad del $\\textit{smoothing}$ ya que, de no haberlo, se estarían evaluando logaritmos en cero.\n",
    "</div>"
   ]
  },
  {
   "cell_type": "markdown",
   "id": "alive-electronics",
   "metadata": {},
   "source": [
    "<div style=\"text-align:justify; text-indent: 25px\">\n",
    "En el caso particular de este trabajo, con el fin de aplicar la fórmula mencionada, se tomará a la matriz de repeticiones provista por CountVectorizer, y se la multiplicará matricialmente por la matriz de logaritmos de probabilidades, traspuesta. Este producto matricial dará como resultado otra matriz, cuyas columnas serán las distintas clases y sus filas serán los distintos textos a clasificar. En los pares fila-columna $(i-j)$ estarán los logaritmos de likelihood del texto $i$ para la clase $j$. \n",
    "</div>"
   ]
  },
  {
   "cell_type": "markdown",
   "id": "curious-comparative",
   "metadata": {},
   "source": [
    "<div style=\"text-align:justify; text-indent: 25px\">\n",
    "Si a cada columna luego se le suma el logaritmo de la probabilidad a priori de la clase correspondiente, entonces la matriz se transformará en una matriz cuyos valores serán proporcionales a los logaritmos de las probabilidades a posteriori de cada noticia para cada clase. Finalmente, el vector de predicciones serán las columnas con probabilidad a posteriori máxima de cada fila.\n",
    "</div>"
   ]
  },
  {
   "cell_type": "code",
   "execution_count": 3,
   "id": "occupied-constraint",
   "metadata": {},
   "outputs": [],
   "source": [
    "\n",
    "class NewsClassifier:\n",
    "    def __init__(self, **kwargs):\n",
    "        self.tfidf = TfidfVectorizer(**kwargs, stop_words = 'english')\n",
    "\n",
    "        self.got_hist = False\n",
    "        self.fitted = False\n",
    "        \n",
    "    def fit(self, train_set, targets):\n",
    "        \n",
    "        self.got_hist = False\n",
    "        \n",
    "        self.train_set, self.targets_train = train_set, targets\n",
    "\n",
    "        self.groups = np.unique(self.targets_train)\n",
    "        \n",
    "        self.fitted_train = self.tfidf.fit_transform(self.train_set)\n",
    "        self.priori = np.mean(self.targets_train == self.groups.reshape(-1, 1), axis = 1)\n",
    "        \n",
    "        self.probabilities = np.zeros((20, self.fitted_train.shape[1]))\n",
    "        \n",
    "        for i, group in enumerate(self.groups):\n",
    "            row = self.fitted_train[self.targets_train == group].sum(axis = 0)\n",
    "            row += row[row > 0].min()\n",
    "            self.probabilities[i] = row / row.sum()\n",
    "        \n",
    "        self.cv = CountVectorizer(stop_words = 'english', vocabulary = self.tfidf.get_feature_names())\n",
    "        \n",
    "        self.fitted = True\n",
    "            \n",
    "    def df_hist(self, **kwargs):\n",
    "        if not self.got_hist:\n",
    "            df = self.fitted_train.getnnz(axis = 0) / self.targets_train.size\n",
    "        \n",
    "            self.hist_height, self.hist_x, container = plt.hist(df * 100, bins = int(np.sqrt(df.size)), **kwargs)\n",
    "            self.hist_width = (self.hist_x[-1] - self.hist_x[0]) / (self.hist_x.size - 1)\n",
    "            self.hist_x = (self.hist_x[:-1] + self.hist_x[1:])/2\n",
    "            self.got_hist = True\n",
    "        else:\n",
    "            plt.bar(self.hist_x, self.hist_height, width = self.hist_width)\n",
    "        \n",
    "        plt.yscale('log')\n",
    "        plt.xlabel('%')\n",
    "        if 'density' in kwargs and kwargs['density']: plt.ylabel('Density')\n",
    "        else: plt.ylabel('Word count')\n",
    "            \n",
    "    def score(self, test_set, targets):\n",
    "        return np.mean(self.predict(test_set) == targets)\n",
    "    \n",
    "    def check_fitted(self):\n",
    "        if not self.fitted: raise Exception ('Cannot predict before fitting.')\n",
    "    \n",
    "    def predict(self, input_data):\n",
    "        self.check_fitted()\n",
    "        \n",
    "        fitted_test = self.cv.transform(input_data)\n",
    "        probs_test = fitted_test.dot(np.log(self.probabilities).T) + np.log(self.priori)\n",
    "        \n",
    "        return self.groups[np.argmax(probs_test, axis = 1)]"
   ]
  },
  {
   "cell_type": "markdown",
   "id": "demanding-message",
   "metadata": {},
   "source": [
    "### 3. Análisis Exploratorio de Datos\n",
    "\n",
    "<div style=\"text-align:justify; text-indent: 25px\">\n",
    "Para ver como se distribuyen las frecuencias entre documentos, se entrenó al modelo con los datos de entrenamiento, y se llamó a la función \"df_hist\". Ésta plotea un histograma de las frecuencias entre documentos. En la figura se puede ver que prácticamente no hay palabras que aparezcan en más del 50% de los documentos. Este dato se utilizará como referencia para elegir el hiperparámentro max_df. Además se puede ver que la gran mayoría de las palabras aparecen en un bajo porcentaje de los documentos. Este dato se utilizará para la elección del hiperparámetro min_df.\n",
    "</div>"
   ]
  },
  {
   "cell_type": "code",
   "execution_count": 4,
   "id": "recent-adoption",
   "metadata": {
    "tags": []
   },
   "outputs": [
    {
     "data": {
      "image/png": "[encoded data removed]",
      "text/plain": [
       "<Figure size 432x288 with 1 Axes>"
      ]
     },
     "metadata": {
      "needs_background": "light"
     },
     "output_type": "display_data"
    }
   ],
   "source": [
    "classifier = NewsClassifier(max_df = 1.0)                    \n",
    "classifier.fit(train_data, targets_train)\n",
    "classifier.df_hist(density = False)"
   ]
  },
  {
   "cell_type": "markdown",
   "id": "alternate-bunny",
   "metadata": {},
   "source": [
    "### 4. Selección de hiperparámetros\n",
    "\n",
    "#### 4.1 Validación\n",
    "<div style=\"text-align:justify; text-indent: 25px\">\n",
    "Para la elección de los hiperparámetros se dividió a los datos de test en un grupo de validación y uno de testeo del modelo validado. Luego, se iteró por todas las combinaciones de hiperparámetros con el fin de encontrar la combinación que maximice la métrica utilizada en este ejercicio, que es el accuracy.    \n",
    "</div>"
   ]
  },
  {
   "cell_type": "code",
   "execution_count": 14,
   "id": "oriental-graph",
   "metadata": {},
   "outputs": [
    {
     "name": "stdout",
     "output_type": "stream",
     "text": [
      "Best max_df: 0.46\n",
      "Best smoothing: False\n",
      "Best use_idf: False\n",
      "Best subtf: True\n",
      "Best norm: l2\n",
      "Best result: 0.7997875730217737\n"
     ]
    }
   ],
   "source": [
    "max_df = np.arange(.01, .57, .05)\n",
    "smooth_idf = np.array([True, False])\n",
    "use_idf = np.array([True, False])\n",
    "sublinear_tf = np.array([True, False])\n",
    "norm = np.array(['l1', 'l2'])\n",
    "validation, test, target_v, target_t = train_test_split(test_data, targets_test, test_size = 0.5, random_state = 0)\n",
    "\n",
    "res = np.zeros((max_df.size, smooth_idf.size, use_idf.size, sublinear_tf.size, norm.size))\n",
    "\n",
    "for i, df in enumerate(max_df):\n",
    "    for j, smooth in enumerate(smooth_idf):\n",
    "        for z, idf in enumerate(use_idf):\n",
    "            for k, subtf in enumerate(sublinear_tf):\n",
    "                for l, nrm in enumerate(norm):\n",
    "                    classifier = NewsClassifier(max_df = df, smooth_idf = smooth, use_idf = idf, sublinear_tf = subtf, norm = nrm)\n",
    "                    \n",
    "                    classifier.fit(train_data, targets_train)\n",
    "                    res[i, j, z, k, l] = classifier.score(validation, target_v)\n",
    "                    \n",
    "best = res.max()\n",
    "argmax = np.argwhere(res == best)[-1]\n",
    "print(f'Best max_df: {max_df[argmax[0]]}')\n",
    "print(f'Best smoothing: {smooth_idf[argmax[1]]}')\n",
    "print(f'Best use_idf: {use_idf[argmax[2]]}')\n",
    "print(f'Best subtf: {sublinear_tf[argmax[3]]}')\n",
    "print(f'Best norm: {norm[argmax[4]]}')\n",
    "print(f'Best result: {best}')"
   ]
  },
  {
   "cell_type": "markdown",
   "id": "limited-slovenia",
   "metadata": {},
   "source": [
    "#### 4.2 Testeo\n",
    "<div style=\"text-align:justify; text-indent: 25px\">\n",
    "Habiendo encontrado los hiperparámetros que mejor ajustaban a los datos de validación, se prosiguió a verificar dicho resultado con los datos de testeo, con el fin de evitar sesgo. Como se puede ver, el accuracy obtenido se sigue manteniendo con lo cual se considera que los hiperparámetros previamente encontrados son efectivos para ambas divisiones de dataset de test. \n",
    "</div>"
   ]
  },
  {
   "cell_type": "code",
   "execution_count": 10,
   "id": "colonial-holocaust",
   "metadata": {},
   "outputs": [
    {
     "name": "stdout",
     "output_type": "stream",
     "text": [
      "0.805894848645778\n"
     ]
    }
   ],
   "source": [
    "classifier = NewsClassifier(max_df = max_df[argmax[0]], sublinear_tf = True, use_idf = False, norm = 'l2')\n",
    "classifier.fit(train_data, targets_train)\n",
    "print(classifier.score(test, target_t))"
   ]
  },
  {
   "cell_type": "markdown",
   "id": "armed-integer",
   "metadata": {},
   "source": [
    "### 5. Resultado final\n",
    "<div style=\"text-align:justify; text-indent: 25px\">\n",
    "Finalmente se procede a encontrar el accuracy con todo el dataset de test, que se espera que sea el promedio entre el accuracy de validación y el de testeo de hiperparámetros.\n",
    "</div>"
   ]
  },
  {
   "cell_type": "code",
   "execution_count": 12,
   "id": "future-lincoln",
   "metadata": {},
   "outputs": [
    {
     "name": "stdout",
     "output_type": "stream",
     "text": [
      "0.8028412108337759\n"
     ]
    }
   ],
   "source": [
    "classifier = NewsClassifier(max_df = max_df[argmax[0]], sublinear_tf = True, use_idf = False)                    \n",
    "classifier.fit(train_data, targets_train)\n",
    "print(classifier.score(test_data, targets_test))"
   ]
  },
  {
   "cell_type": "markdown",
   "id": "respective-astronomy",
   "metadata": {},
   "source": [
    "<div style=\"text-align:justify; text-indent: 25px\">\n",
    "Como modelo alternativo, se lo puede comparar con el resultante de utilizar todos los datos ($\\textit{max_df}\\approx 0.55$). \n",
    "</div>"
   ]
  },
  {
   "cell_type": "code",
   "execution_count": 15,
   "id": "rational-karen",
   "metadata": {},
   "outputs": [
    {
     "name": "stdout",
     "output_type": "stream",
     "text": [
      "0.80323951141795\n"
     ]
    }
   ],
   "source": [
    "classifier = NewsClassifier(max_df = 0.55, sublinear_tf = True, use_idf = False)                    \n",
    "classifier.fit(train_data, targets_train)\n",
    "print(classifier.score(test_data, targets_test))"
   ]
  },
  {
   "cell_type": "markdown",
   "id": "directed-fitness",
   "metadata": {},
   "source": [
    "<div style=\"text-align:justify; text-indent: 25px\">\n",
    "Como se puede ver, los hiperparámetros presentaban un leve sesgo, ya que al utilizar todas las palabras el accuracy del dataset del test completo aumenta un 0.4%.\n",
    "</div>"
   ]
  },
  {
   "cell_type": "markdown",
   "id": "broke-cardiff",
   "metadata": {},
   "source": [
    "<div style=\"text-align:justify; text-indent: 25px\">\n",
    "Con este resultado, se puede concluir:\n",
    "</div>"
   ]
  },
  {
   "cell_type": "markdown",
   "id": "twenty-signature",
   "metadata": {},
   "source": [
    "<center> $Accuracy = 80.32\\%$ </center>"
   ]
  }
 ],
 "metadata": {
  "kernelspec": {
   "display_name": "Python 3",
   "language": "python",
   "name": "python3"
  },
  "language_info": {
   "codemirror_mode": {
    "name": "ipython",
    "version": 3
   },
   "file_extension": ".py",
   "mimetype": "text/x-python",
   "name": "python",
   "nbconvert_exporter": "python",
   "pygments_lexer": "ipython3",
   "version": "3.9.2"
  }
 },
 "nbformat": 4,
 "nbformat_minor": 5
}
