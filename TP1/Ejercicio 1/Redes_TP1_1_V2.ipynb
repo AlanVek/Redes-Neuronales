{
 "cells": [
  {
   "cell_type": "code",
   "execution_count": 26,
   "id": "political-sport",
   "metadata": {},
   "outputs": [],
   "source": [
    "from sklearn.datasets import fetch_20newsgroups\n",
    "from sklearn.feature_extraction.text import CountVectorizer, TfidfVectorizer\n",
    "import numpy as np\n",
    "import matplotlib.pyplot as plt\n",
    "\n",
    "twenty_train = fetch_20newsgroups(subset='train', shuffle=True, remove = ('headers', 'footers'))\n",
    "targets_train = twenty_train['target']\n",
    "\n",
    "twenty_test = fetch_20newsgroups(subset = 'test', remove = ('headers', 'footers'))\n",
    "targets_test = twenty_test['target']\n",
    "\n",
    "groups = np.arange(20)\n",
    "priori = np.mean(targets_train == groups.reshape(-1, 1), axis = 1)\n",
    "\n",
    "with open('train_data.txt', 'rt') as file: train_data = file.read().splitlines()\n",
    "with open('test_data.txt', 'rt') as file: test_data = file.read().splitlines() \n",
    "    \n",
    "#train_data = twenty_train['data']\n",
    "#test_data = twenty_test['data']"
   ]
  },
  {
   "cell_type": "code",
   "execution_count": 32,
   "id": "forced-imperial",
   "metadata": {},
   "outputs": [],
   "source": [
    "\n",
    "class NewsClassifier:\n",
    "    def __init__(self, smoothing, **kwargs):\n",
    "        self.smoothing = smoothing\n",
    "        self.tfidf = TfidfVectorizer(**kwargs, stop_words = 'english')\n",
    "        \n",
    "    def train(self, train_set, targets):\n",
    "\n",
    "        self.groups = np.sort(np.unique(targets))\n",
    "        \n",
    "        fitted = self.tfidf.fit_transform(train_set)\n",
    "        self.priori = np.mean(targets == self.groups.reshape(-1, 1), axis = 1)\n",
    "        \n",
    "        self.probabilities = np.zeros((20, fitted.shape[1]))\n",
    "        \n",
    "        for i, group in enumerate(self.groups):\n",
    "            row = fitted[targets_train == group].sum(axis = 0)\n",
    "            row += row[row > 0].min() / self.smoothing\n",
    "            self.probabilities[i] = row / row.sum()\n",
    "            \n",
    "        print(self.probabilities)\n",
    "        \n",
    "    def score(self, test_set, targets):\n",
    "        \n",
    "        pred_test = self.predict(test_set)\n",
    "        \n",
    "        return np.mean(pred_test == targets)\n",
    "    \n",
    "    def predict(self, input_data):\n",
    "        fitted_test = self.tfidf.transform(input_data)\n",
    "        probs_test = fitted_test.dot(np.log(self.probabilities).T) + np.log(self.priori)\n",
    "        pred_test = self.groups[np.argmax(probs_test, axis = 1)]\n",
    "        \n",
    "        return pred_test"
   ]
  },
  {
   "cell_type": "code",
   "execution_count": null,
   "id": "apparent-halloween",
   "metadata": {},
   "outputs": [],
   "source": [
    "d = np.arange(.1, 0.19, .005)\n",
    "s = np.array([1e-15, .09, .1])\n",
    "\n",
    "res = np.zeros((d.size, s.size))\n",
    "\n",
    "for i, df in enumerate(d):\n",
    "    for j, smooth in enumerate(s):\n",
    "        print(f'{i * s.size + j + 1} of {res.size}')\n",
    "        res[i, j] = attempt(min_df = 1, max_df = df, smoothing = smooth, max_weight = 2.5)['Test']\n",
    "        \n",
    "best = res.max()\n",
    "argmax = np.argwhere(res == best)[0]\n",
    "print(f'Best max_df: {d[argmax[0]]}')\n",
    "print(f'Best smoothing: {s[argmax[1]]}')\n",
    "print(f'Best result: {best}')"
   ]
  },
  {
   "cell_type": "code",
   "execution_count": null,
   "id": "convenient-natural",
   "metadata": {},
   "outputs": [],
   "source": [
    "sens_tot = []\n",
    "especif_tot = []\n",
    "vp_tot = []\n",
    "vn_tot = []\n",
    "\n",
    "for i in range(20):\n",
    "    targets_ok = targets_test == i\n",
    "    pred_ok = pred == i\n",
    "    VP = np.sum(targets_ok & pred_ok)\n",
    "    VN = np.sum(~targets_ok & ~pred_ok)\n",
    "    FP = np.sum(~targets_ok & pred_ok)\n",
    "    FN = np.sum(targets_ok & ~pred_ok)\n",
    "    \n",
    "    sens_tot.append(VP / (VP + FN))\n",
    "    especif_tot.append(VN / (VN + FP))\n",
    "    vp_tot.append(VP / (VP + FP))\n",
    "    vn_tot.append(VN / (VN + FN))\n",
    "    \n",
    "print(f'Sensibilidad: {np.round(np.mean(sens_tot) * 100, 2)}%')\n",
    "\n",
    "# No tiene sentido, porque son 20 clases. Obvio que va a dar alto.\n",
    "print(f'Especificidad: {np.round(np.mean(especif_tot) * 100, 2)}%') \n",
    "\n",
    "print(f'Valor predictivo positivo: {np.round(np.mean(vp_tot) * 100, 2)}%')\n",
    "\n",
    "# No tiene sentido, porque son 20 clases. Obvio que va a dar alto.\n",
    "print(f'Valor predictivo negativo: {np.round(np.mean(vn_tot) * 100, 2)}%')"
   ]
  },
  {
   "cell_type": "markdown",
   "id": "comfortable-enforcement",
   "metadata": {},
   "source": [
    "## Preguntas\n",
    "- $\\textbf{Parte 1}$:\n",
    "    - ¿Va bien 79.3%?\n",
    "    - ¿Qué más podemos hacer para subirlo?\n",
    "    - ¿Está bien usar accuracy?\n",
    "    - ¿Para las otras métricas está bien sacar el promedio?\n",
    "    \n",
    "- $\\textbf{Parte 2}$:\n",
    "    - ¿Podemos sacar el priori si da peores resultados?\n",
    "    - ¿Está bien elegida la sensibilidad como métrica?\n",
    "    - ¿Está bien reemplazar a los NaN por la media según la clase?    "
   ]
  },
  {
   "cell_type": "code",
   "execution_count": null,
   "id": "improved-ready",
   "metadata": {},
   "outputs": [],
   "source": [
    "from sklearn.naive_bayes import MultinomialNB\n",
    "from sklearn.feature_extraction.text import TfidfVectorizer\n",
    "\n",
    "mnb = MultinomialNB(alpha = .1)\n",
    "\n",
    "cv = TfidfVectorizer(stop_words = 'english')\n",
    "\n",
    "mnb.fit(cv.fit_transform(train_data), targets_train)\n",
    "\n",
    "mnb.score(cv.transform(test_data), targets_test)\n"
   ]
  },
  {
   "cell_type": "code",
   "execution_count": 33,
   "id": "established-inside",
   "metadata": {},
   "outputs": [
    {
     "name": "stdout",
     "output_type": "stream",
     "text": [
      "[[2.75331650e-05 3.07203371e-04 3.03517382e-06 ... 3.03517382e-06\n",
      "  3.03517382e-06 3.03517382e-06]\n",
      " [4.82645635e-04 1.82063515e-04 2.55565246e-06 ... 2.55565246e-06\n",
      "  2.55565246e-06 2.55565246e-06]\n",
      " [4.26147198e-04 9.07757830e-05 2.02241271e-06 ... 2.02241271e-06\n",
      "  2.02241271e-06 2.02241271e-06]\n",
      " ...\n",
      " [8.90668984e-05 8.37701662e-04 9.58630002e-06 ... 2.35517625e-06\n",
      "  2.35517625e-06 2.35517625e-06]\n",
      " [2.04739459e-04 3.43062018e-04 2.81882261e-06 ... 2.81882261e-06\n",
      "  2.81882261e-06 2.81882261e-06]\n",
      " [6.43572696e-05 1.46951001e-04 4.19589796e-06 ... 4.19589796e-06\n",
      "  4.19589796e-06 4.19589796e-06]]\n",
      "0.8017790759426447\n"
     ]
    }
   ],
   "source": [
    "classifier = NewsClassifier(smoothing = 1, max_df = .1, smooth_idf = False, use_idf = False, sublinear_tf = True)\n",
    "\n",
    "classifier.train(train_data, targets_train)\n",
    "\n",
    "print(classifier.score(test_data, targets_test))"
   ]
  },
  {
   "cell_type": "code",
   "execution_count": 19,
   "id": "indian-consciousness",
   "metadata": {},
   "outputs": [
    {
     "data": {
      "text/plain": [
       "0.8011152416356877"
      ]
     },
     "execution_count": 19,
     "metadata": {},
     "output_type": "execute_result"
    }
   ],
   "source": [
    "classifier.score(test_data[len(test_data) // 2:], targets_test[len(targets_test) // 2:])"
   ]
  },
  {
   "cell_type": "code",
   "execution_count": null,
   "id": "visible-assist",
   "metadata": {},
   "outputs": [],
   "source": []
  }
 ],
 "metadata": {
  "kernelspec": {
   "display_name": "Python 3",
   "language": "python",
   "name": "python3"
  },
  "language_info": {
   "codemirror_mode": {
    "name": "ipython",
    "version": 3
   },
   "file_extension": ".py",
   "mimetype": "text/x-python",
   "name": "python",
   "nbconvert_exporter": "python",
   "pygments_lexer": "ipython3",
   "version": "3.9.2"
  }
 },
 "nbformat": 4,
 "nbformat_minor": 5
}
