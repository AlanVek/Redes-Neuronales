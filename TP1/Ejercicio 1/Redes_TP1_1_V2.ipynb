{
 "cells": [
  {
   "cell_type": "markdown",
   "id": "coated-divide",
   "metadata": {},
   "source": [
    "# Ejercicio 1 TP1: Clasificador de noticas."
   ]
  },
  {
   "cell_type": "markdown",
   "id": "organizational-handbook",
   "metadata": {},
   "source": [
    "## Introducción\n",
    "<div style=\"text-align:justify\">\n",
    "En este ejercicio se propuso entrenar un modelo que clasifique textos en 20 categorías, provistas por la librería \"sklearn\". Para importar los datos se usa la función \"fetch_20newsgroups\" con parámetros train y test, dependiendo del caso. \n",
    "</div>"
   ]
  },
  {
   "cell_type": "code",
   "execution_count": 6,
   "id": "lovely-option",
   "metadata": {},
   "outputs": [],
   "source": [
    "from sklearn.datasets import fetch_20newsgroups\n",
    "from sklearn.feature_extraction.text import TfidfVectorizer, CountVectorizer\n",
    "import numpy as np\n",
    "import matplotlib.pyplot as plt\n",
    "\n",
    "twenty_train = fetch_20newsgroups(subset='train', shuffle=True, remove = ('headers', 'footers'))\n",
    "targets_train = twenty_train['target']\n",
    "\n",
    "twenty_test = fetch_20newsgroups(subset = 'test', remove = ('headers', 'footers'))\n",
    "targets_test = twenty_test['target']\n",
    "\n",
    "with open('train_data.txt', 'rt') as file: train_data = file.read().splitlines()\n",
    "with open('test_data.txt', 'rt') as file: test_data = file.read().splitlines() \n",
    "    \n",
    "#train_data = twenty_train['data']\n",
    "#test_data = twenty_test['data']"
   ]
  },
  {
   "cell_type": "markdown",
   "id": "preceding-moldova",
   "metadata": {},
   "source": [
    "## Implementación\n",
    "<div style=\"text-align:justify\">\n",
    "Luego se define la clase \"NewsClassifier\" cuyo constructor recibe los parámetros correspondientes al \"TfidfVectorizer\". Esto se implementó para poder tener un modelo dinámico con hiperparámetros fácilmente modificables. Entre éstos se encontrarán: \n",
    "</div>\n",
    "\n",
    "- max_idf: máxima frecuencia entre documentos permitida;\n",
    "- min_idf: minima frecuencia entre documentos permitida;\n",
    "- sublinear_tf: suavizado para grandes frecuencias de términos;\n",
    "- use_idf/smooth_idf: uso de idf y suavizado para evitar divisiones por cero;\n",
    "- norm: normalización (norma 1 o norma 2).\n",
    "\n",
    "### Entrenamiento\n",
    "<div style=\"text-align:justify\">\n",
    "En primer lugar se le aplica la vertorización \"TF-IDF\" a los datos de entrenamiento, usando los parámetros pasados en el constructor. Ésto nos dará una matriz esparza con puntajes, y cuyas filas y columnas serán los textos y las palabras, respectivamente. También se guardan las probabilidades a priori de cada una de las clases. \n",
    "</div> \n",
    "<div style=\"text-align:justify\">\n",
    "Paralelamente, se define una matriz de probabilidades de dimensión 20xN donde \"N\" es la cantidad de palabras en el vocabulario. Luego se itera por cada una de las clases. En cada una de estas iteraciones se suman los puntajes de cada una de las palabras en noticias de la clase por la cual se está iterando. Se aplica un factor de smoothing, con el propósito de evitar probabilidades iguales a cero. Finalmente se divide a estos puntajes por la suma de todos para convertirlos en probabilidades, y se guardan estas probabilidades en la fila correspondiente de la matriz de probabilidades. Con este último paso, el modelo queda entrenado y está apto para realizar predicciones.\n",
    "</div>\n",
    "\n"
   ]
  },
  {
   "cell_type": "markdown",
   "id": "genetic-portuguese",
   "metadata": {},
   "source": [
    "### Predicción\n",
    "\n",
    "<div style=\"text-align:justify\">\n",
    "    Para predicir, primero se toman los textos a clasificar y se guardan las palabras, según el vocabulario entrenado, en una matriz esparza. En esta matriz, a diferencia del entrenamiento, se guardan las repeticiones de cada una. Con el proposito de utilizar \"Naive Bayes\", se quiere aplicar la siguiente fórmula:\n",
    "</div>\n"
   ]
  },
  {
   "cell_type": "markdown",
   "id": "collective-brisbane",
   "metadata": {},
   "source": [
    "<center>\n",
    "    $P(x_1,x_2,...,x_N|y) = \\prod_{i=1}^N P(x_i|y)^{n_{ij}}$\n",
    "</center>\n"
   ]
  },
  {
   "cell_type": "markdown",
   "id": "considered-quilt",
   "metadata": {},
   "source": [
    "<div style=\"text-align:justify\">\n",
    "    Donde $x_i$ es cada una de la palabras del vocabulario y $n_{ij}$ la cantidad de repeticiones de la palabra $x_i$ en el texto \"j\". Esta probabilidad obtenida será el likelihood naive, asumiendo independencia y approach BOW. Luego, se calcula este likelihood para cada una de las clases \"y\", y a cada uno se lo multiplica por su probabilidad a priori obtenida durante el entrenamiento. Finalmente se dirá que el texto será de la clase con mayor probabilidad a posteriori, o sea, $P(y|x_1,x_2,...,x_N)$, que será proporcional a $P(x_1,x_2,...,x_N|y)\\cdot P(y)$.\n",
    "</div>"
   ]
  },
  {
   "cell_type": "markdown",
   "id": "conscious-georgia",
   "metadata": {},
   "source": [
    "<div style='text-align:justify'>\n",
    "El único cambio que en este trabajo se le aplicó a la fórmula de Naive Bayes, es el hecho de comparar los logaritmos de P(y|x). Esto se decidió hacer así para evitar tener números muy pequeños debido a los productos de las probabilidades. Por lo tanto, la fórmula de Naive Bayes se reescribe de la siguiente forma:\n",
    "</div>"
   ]
  },
  {
   "cell_type": "markdown",
   "id": "provincial-eating",
   "metadata": {},
   "source": [
    "<center>\n",
    "    $\\log(P(y|x)) = \\sum_{i=1}^N (n_{ij}\\cdot \\log(P(x_i|y))) + \\log(P(y))$\n",
    "</center>"
   ]
  },
  {
   "cell_type": "markdown",
   "id": "outside-venue",
   "metadata": {},
   "source": [
    "En la fórmula anterior se puedde ver la necesidad del smoothing ya que, de no haberlo, se estarían evaluando logaritmos en cero."
   ]
  },
  {
   "cell_type": "markdown",
   "id": "applied-contract",
   "metadata": {},
   "source": [
    "<div style='text-align:justify'>\n",
    "Para aplicar esto en nuestro caso particular, se toma a la matriz esparza mencionada, y se la multiplica matricialmente por la matriz de logaritmos de probabilidades, traspuesta. Esto da como resultado una matriz, cuyas columnas serán las distintas clases y sus filas serán los distintos textos a predecir. En los pares fila-columna (i-j) estarán los logaritmos de likelihood del texto \"i\" para la calse \"j\". Si a cada columna se le suma el logaritmo de la probabilidad a priori de la clase correspondiente, entonces la matriz se transforma en una matriz de logaritmos a posteriori. Finalmente, el vector de predicciones serán las columnas con probabilidad a posteriori máxima de cada fila.\n",
    "</div>"
   ]
  },
  {
   "cell_type": "code",
   "execution_count": 4,
   "id": "generous-stations",
   "metadata": {},
   "outputs": [],
   "source": [
    "\n",
    "class NewsClassifier:\n",
    "    def __init__(self, **kwargs):\n",
    "        self.tfidf = TfidfVectorizer(**kwargs, stop_words = 'english')\n",
    "\n",
    "        \n",
    "        self.got_hist = False\n",
    "        \n",
    "    def fit(self, train_set, targets):\n",
    "        \n",
    "        self.got_hist = False\n",
    "        \n",
    "        self.train_set = train_set\n",
    "        self.targets_train = targets\n",
    "\n",
    "        self.groups = np.unique(targets)\n",
    "        \n",
    "        self.fitted_train = self.tfidf.fit_transform(train_set)\n",
    "        self.priori = np.mean(self.targets_train == self.groups.reshape(-1, 1), axis = 1)\n",
    "        \n",
    "        self.probabilities = np.zeros((20, self.fitted_train.shape[1]))\n",
    "        \n",
    "        for i, group in enumerate(self.groups):\n",
    "            row = self.fitted_train[self.targets_train == group].sum(axis = 0)\n",
    "            row += row[row > 0].min()\n",
    "            self.probabilities[i] = row / row.sum()\n",
    "        \n",
    "        self.cv = CountVectorizer(stop_words = 'english', vocabulary = self.tfidf.get_feature_names())\n",
    "\n",
    "            \n",
    "    def df_hist(self, **kwargs):\n",
    "        if not self.got_hist:\n",
    "            df = self.fitted_train.getnnz(axis = 0) / self.targets_train.size\n",
    "        \n",
    "            self.hist_height, self.hist_x, container = plt.hist(df * 100, bins = int(np.sqrt(df.size)), **kwargs)\n",
    "            self.hist_width = (self.hist_x[-1] - self.hist_x[0]) / (self.hist_x.size - 1)\n",
    "            self.hist_x = (self.hist_x[:-1] + self.hist_x[1:])/2\n",
    "            self.got_hist = True\n",
    "        else:\n",
    "            plt.bar(self.hist_x, self.hist_height, width = self.hist_width)\n",
    "        \n",
    "        plt.yscale('log')\n",
    "        plt.xlabel('%')\n",
    "        plt.ylabel('Cantidad de palabras')\n",
    "        \n",
    "            \n",
    "    def score(self, test_set, targets):\n",
    "        \n",
    "        pred_test = self.predict(test_set)\n",
    "        \n",
    "        return np.mean(pred_test == targets)\n",
    "    \n",
    "    def predict(self, input_data):\n",
    "        fitted_test = self.cv.transform(input_data)\n",
    "        probs_test = fitted_test.dot(np.log(self.probabilities).T) + np.log(self.priori)\n",
    "        pred_test = self.groups[np.argmax(probs_test, axis = 1)]\n",
    "        \n",
    "        return pred_test"
   ]
  },
  {
   "cell_type": "code",
   "execution_count": 43,
   "id": "expired-bosnia",
   "metadata": {},
   "outputs": [
    {
     "name": "stdout",
     "output_type": "stream",
     "text": [
      "Best max_df: 0.11\n",
      "Best smoothing: True\n",
      "Best use_idf: False\n",
      "Best subtf: True\n",
      "Best norm: l2\n",
      "Best result: 0.8016463090812533\n"
     ]
    }
   ],
   "source": [
    "max_df = np.arange(.01, .26, .05)\n",
    "smooth_idf = np.array([True, False])\n",
    "use_idf = np.array([True, False])\n",
    "sublinear_tf = np.array([True, False])\n",
    "norm = np.array(['l1', 'l2'])\n",
    "\n",
    "res = np.zeros((max_df.size, smooth_idf.size, use_idf.size, sublinear_tf.size, norm.size))\n",
    "\n",
    "for i, df in enumerate(max_df):\n",
    "    for j, smooth in enumerate(smooth_idf):\n",
    "        for z, idf in enumerate(use_idf):\n",
    "            for k, subtf in enumerate(sublinear_tf):\n",
    "                for l, nrm in enumerate(norm):\n",
    "                    classifier = NewsClassifier(max_df = df, smooth_idf = smooth, use_idf = idf, sublinear_tf = subtf, norm = nrm)\n",
    "                    \n",
    "                    classifier.fit(train_data, targets_train)\n",
    "                    res[i, j, z, k, l] = classifier.score(test_data, targets_test)\n",
    "                    \n",
    "best = res.max()\n",
    "argmax = np.argwhere(res == best)[0]\n",
    "print(f'Best max_df: {max_df[argmax[0]]}')\n",
    "print(f'Best smoothing: {smooth_idf[argmax[1]]}')\n",
    "print(f'Best use_idf: {use_idf[argmax[2]]}')\n",
    "print(f'Best subtf: {sublinear_tf[argmax[3]]}')\n",
    "print(f'Best norm: {norm[argmax[4]]}')\n",
    "print(f'Best result: {best}')"
   ]
  },
  {
   "cell_type": "code",
   "execution_count": 44,
   "id": "centered-stroke",
   "metadata": {},
   "outputs": [
    {
     "name": "stdout",
     "output_type": "stream",
     "text": [
      "Best max_df: [0.063]\n",
      "Best result: 0.8028412108337759\n"
     ]
    }
   ],
   "source": [
    "max_df = np.arange(.06, .07, .001)\n",
    "use_idf = False\n",
    "sublinear_tf = True\n",
    "\n",
    "res = np.zeros(max_df.size)\n",
    "\n",
    "for i, df in enumerate(max_df):\n",
    "    classifier = NewsClassifier(max_df = df, use_idf = use_idf, sublinear_tf = sublinear_tf)\n",
    "    classifier.fit(train_data, targets_train)\n",
    "    res[i] = classifier.score(test_data, targets_test)\n",
    "        \n",
    "best = res.max()\n",
    "argmax = np.argwhere(res == best)[0]\n",
    "print(f'Best max_df: {max_df[argmax]}')\n",
    "print(f'Best result: {best}')"
   ]
  },
  {
   "cell_type": "code",
   "execution_count": 45,
   "id": "conservative-temple",
   "metadata": {
    "tags": []
   },
   "outputs": [
    {
     "data": {
      "image/png": "[encoded data removed]",
      "text/plain": [
       "<Figure size 432x288 with 1 Axes>"
      ]
     },
     "metadata": {
      "needs_background": "light"
     },
     "output_type": "display_data"
    }
   ],
   "source": [
    "classifier = NewsClassifier(max_df = 1.0)                    \n",
    "classifier.fit(train_data, targets_train)\n",
    "classifier.df_hist(density = True)"
   ]
  },
  {
   "cell_type": "code",
   "execution_count": 7,
   "id": "center-encoding",
   "metadata": {},
   "outputs": [
    {
     "name": "stdout",
     "output_type": "stream",
     "text": [
      "0.8028412108337759\n"
     ]
    }
   ],
   "source": [
    "classifier = NewsClassifier(max_df = .063, sublinear_tf = True, use_idf = False)                    \n",
    "classifier.fit(train_data, targets_train)\n",
    "print(classifier.score(test_data, targets_test))"
   ]
  },
  {
   "cell_type": "code",
   "execution_count": 47,
   "id": "married-rolling",
   "metadata": {},
   "outputs": [
    {
     "data": {
      "image/png": "[encoded data removed]",
      "text/plain": [
       "<Figure size 432x288 with 1 Axes>"
      ]
     },
     "metadata": {
      "needs_background": "light"
     },
     "output_type": "display_data"
    }
   ],
   "source": [
    "classifier.df_hist(density = True)"
   ]
  }
 ],
 "metadata": {
  "kernelspec": {
   "display_name": "Python 3",
   "language": "python",
   "name": "python3"
  },
  "language_info": {
   "codemirror_mode": {
    "name": "ipython",
    "version": 3
   },
   "file_extension": ".py",
   "mimetype": "text/x-python",
   "name": "python",
   "nbconvert_exporter": "python",
   "pygments_lexer": "ipython3",
   "version": "3.9.2"
  }
 },
 "nbformat": 4,
 "nbformat_minor": 5
}
