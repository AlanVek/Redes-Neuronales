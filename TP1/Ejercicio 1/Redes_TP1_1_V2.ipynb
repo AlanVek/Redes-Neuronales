{
 "cells": [
  {
   "cell_type": "code",
   "execution_count": 1,
   "id": "contained-somewhere",
   "metadata": {},
   "outputs": [],
   "source": [
    "from sklearn.datasets import fetch_20newsgroups\n",
    "from sklearn.feature_extraction.text import CountVectorizer\n",
    "import numpy as np\n",
    "import matplotlib.pyplot as plt\n",
    "\n",
    "twenty_train = fetch_20newsgroups(subset='train', shuffle=True, remove = ('headers', 'footers'))\n",
    "targets_train = twenty_train['target']\n",
    "\n",
    "twenty_test = fetch_20newsgroups(subset = 'test', remove = ('headers', 'footers'))\n",
    "targets_test = twenty_test['target']\n",
    "\n",
    "groups = np.arange(20)\n",
    "priori = np.mean(targets_train == groups.reshape(-1, 1), axis = 1)\n",
    "\n",
    "with open('train_data.txt', 'rt') as file: train_data = file.read().splitlines()\n",
    "with open('test_data.txt', 'rt') as file: test_data = file.read().splitlines() "
   ]
  },
  {
   "cell_type": "code",
   "execution_count": 2,
   "id": "included-blogger",
   "metadata": {},
   "outputs": [],
   "source": [
    "def attempt(smoothing, **kwargs):\n",
    "    cv = CountVectorizer(**kwargs, stop_words = 'english')\n",
    "\n",
    "    fitted = cv.fit_transform(train_data)\n",
    "    #f2 = fitted.toarray()\n",
    "\n",
    "    probabilities = np.zeros((20, fitted.shape[1]))\n",
    "    print(probabilities.shape[1])\n",
    "    \n",
    "    #df = np.count_nonzero(f2, axis = 0) / targets_train.size\n",
    "    #plt.hist(df * 100, bins = 80)\n",
    "    #plt.yscale('log')\n",
    "    #plt.xlabel('%')\n",
    "    #plt.ylabel('Repeticiones')\n",
    "\n",
    "    for group in groups:\n",
    "        row = fitted[targets_train == group].sum(axis = 0) + smoothing\n",
    "        probabilities[group] = row / row.sum()\n",
    "        \n",
    "    #np.delete(f2)\n",
    "\n",
    "    fitted_test = cv.transform(test_data).toarray().T\n",
    "        \n",
    "    probs_test = np.dot(np.log(probabilities), fitted_test) + np.log(priori).reshape(-1, 1)\n",
    "\n",
    "    pred_test = np.argmax(probs_test, axis = 0)\n",
    "\n",
    "    acc_test = np.mean(pred_test == targets_test)\n",
    "    \n",
    "    return {'Test': (acc_test * 100).round(2)}"
   ]
  },
  {
   "cell_type": "code",
   "execution_count": 3,
   "id": "expected-spray",
   "metadata": {},
   "outputs": [
    {
     "name": "stdout",
     "output_type": "stream",
     "text": [
      "104001\n",
      "{'Test': 76.89}\n"
     ]
    }
   ],
   "source": [
    "s = .1\n",
    "d = 900\n",
    "print(attempt(min_df = 1, max_df = d, smoothing = s))"
   ]
  },
  {
   "cell_type": "code",
   "execution_count": null,
   "id": "historical-reader",
   "metadata": {},
   "outputs": [],
   "source": [
    "sens_tot = []\n",
    "especif_tot = []\n",
    "vp_tot = []\n",
    "vn_tot = []\n",
    "\n",
    "for i in range(20):\n",
    "    targets_ok = targets_test == i\n",
    "    pred_ok = pred == i\n",
    "    VP = np.sum(targets_ok & pred_ok)\n",
    "    VN = np.sum(~targets_ok & ~pred_ok)\n",
    "    FP = np.sum(~targets_ok & pred_ok)\n",
    "    FN = np.sum(targets_ok & ~pred_ok)\n",
    "    \n",
    "    sens_tot.append(VP / (VP + FN))\n",
    "    especif_tot.append(VN / (VN + FP))\n",
    "    vp_tot.append(VP / (VP + FP))\n",
    "    vn_tot.append(VN / (VN + FN))\n",
    "    \n",
    "print(f'Sensibilidad: {np.round(np.mean(sens_tot) * 100, 2)}%')\n",
    "\n",
    "# No tiene sentido, porque son 20 clases. Obvio que va a dar alto.\n",
    "print(f'Especificidad: {np.round(np.mean(especif_tot) * 100, 2)}%') \n",
    "\n",
    "print(f'Valor predictivo positivo: {np.round(np.mean(vp_tot) * 100, 2)}%')\n",
    "\n",
    "# No tiene sentido, porque son 20 clases. Obvio que va a dar alto.\n",
    "print(f'Valor predictivo negativo: {np.round(np.mean(vn_tot) * 100, 2)}%')"
   ]
  },
  {
   "cell_type": "markdown",
   "id": "passing-christianity",
   "metadata": {},
   "source": [
    "## Preguntas\n",
    "- $\\textbf{Parte 1}$:\n",
    "    - ¿Va bien 79.3%?\n",
    "    - ¿Qué más podemos hacer para subirlo?\n",
    "    - ¿Está bien usar accuracy?\n",
    "    - ¿Para las otras métricas está bien sacar el promedio?\n",
    "    \n",
    "- $\\textbf{Parte 2}$:\n",
    "    - ¿Podemos sacar el priori si da peores resultados?\n",
    "    - ¿Está bien elegida la sensibilidad como métrica?\n",
    "    - ¿Está bien reemplazar a los NaN por la media según la clase?    "
   ]
  },
  {
   "cell_type": "code",
   "execution_count": null,
   "id": "regular-valentine",
   "metadata": {},
   "outputs": [],
   "source": [
    "from sklearn.naive_bayes import MultinomialNB\n",
    "\n",
    "mnb = MultinomialNB(alpha = .05)\n",
    "\n",
    "cv = CountVectorizer()\n",
    "\n",
    "mnb.fit(cv.fit_transform(train_data), targets_train)\n",
    "\n",
    "mnb.score(cv.transform(test_data), targets_test)\n"
   ]
  },
  {
   "cell_type": "code",
   "execution_count": null,
   "id": "vulnerable-criterion",
   "metadata": {},
   "outputs": [],
   "source": []
  }
 ],
 "metadata": {
  "kernelspec": {
   "display_name": "Python 3",
   "language": "python",
   "name": "python3"
  },
  "language_info": {
   "codemirror_mode": {
    "name": "ipython",
    "version": 3
   },
   "file_extension": ".py",
   "mimetype": "text/x-python",
   "name": "python",
   "nbconvert_exporter": "python",
   "pygments_lexer": "ipython3",
   "version": "3.9.2"
  }
 },
 "nbformat": 4,
 "nbformat_minor": 5
}
