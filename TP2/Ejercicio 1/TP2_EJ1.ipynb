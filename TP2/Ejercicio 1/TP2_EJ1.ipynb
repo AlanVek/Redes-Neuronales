{
  "nbformat": 4,
  "nbformat_minor": 5,
  "metadata": {
    "kernelspec": {
      "display_name": "Python 3",
      "language": "python",
      "name": "python3"
    },
    "language_info": {
      "codemirror_mode": {
        "name": "ipython",
        "version": 3
      },
      "file_extension": ".py",
      "mimetype": "text/x-python",
      "name": "python",
      "nbconvert_exporter": "python",
      "pygments_lexer": "ipython3",
      "version": "3.9.2"
    },
    "colab": {
      "name": "TP2_EJ1.ipynb",
      "provenance": [],
      "collapsed_sections": [
        "f926ffb1-32ec-4000-9b67-358510b52b8a",
        "8cf37c82-be56-4351-9e2c-026450f8eb49"
      ],
      "toc_visible": true
    },
    "accelerator": "GPU"
  },
  "cells": [
    {
      "cell_type": "markdown",
      "metadata": {
        "id": "uDLGGv5YRcuj"
      },
      "source": [
        "# Redes Neuronales - Trabajo Práctico N°2"
      ],
      "id": "uDLGGv5YRcuj"
    },
    {
      "cell_type": "markdown",
      "metadata": {
        "id": "-nvvjc2mRgG9"
      },
      "source": [
        "## Ejercicio 1 - Predictor de diabetes con regresión logística"
      ],
      "id": "-nvvjc2mRgG9"
    },
    {
      "cell_type": "markdown",
      "metadata": {
        "id": "YXW3SxYgRkcU"
      },
      "source": [
        "En primer lugar, importamos los módulos y librerías que usaremos durante el trabajo. Usamos NumPy para los desarrollos numéricos, Keras para los modelos predictivos, pandas para la manipulación de los datos, MatPlotLib y Seaborn para la visualización, y Sklearn para funcionalidades específicas."
      ],
      "id": "YXW3SxYgRkcU"
    },
    {
      "cell_type": "code",
      "metadata": {
        "id": "f9ac3278-45a4-416d-b1a7-13e0effffebb"
      },
      "source": [
        "import numpy as np\n",
        "\n",
        "from keras.models import Sequential\n",
        "from keras.layers import Dense, BatchNormalization, Dropout\n",
        "from keras.optimizers import SGD, Adam\n",
        "from keras.optimizers.schedules import ExponentialDecay\n",
        "from keras.callbacks import EarlyStopping\n",
        "from keras.initializers import RandomNormal\n",
        "from keras.regularizers import l1, l2\n",
        "\n",
        "import pandas as pd\n",
        "import matplotlib.pyplot as plt\n",
        "\n",
        "from sklearn.preprocessing import PolynomialFeatures\n",
        "from sklearn.model_selection import train_test_split\n",
        "from sklearn.preprocessing import StandardScaler as scaler\n",
        "import tensorflow as tf\n",
        "\n",
        "import seaborn as sns\n",
        "from sklearn.metrics import roc_curve"
      ],
      "id": "f9ac3278-45a4-416d-b1a7-13e0effffebb",
      "execution_count": null,
      "outputs": []
    },
    {
      "cell_type": "code",
      "metadata": {
        "colab": {
          "base_uri": "https://localhost:8080/"
        },
        "id": "9yK3CBdB7Vi0",
        "outputId": "23fe9f95-282c-40a6-aab4-6c75c6f20ca0"
      },
      "source": [
        "from google.colab import drive\n",
        "drive.mount('/content/drive')"
      ],
      "id": "9yK3CBdB7Vi0",
      "execution_count": null,
      "outputs": [
        {
          "output_type": "stream",
          "text": [
            "Mounted at /content/drive\n"
          ],
          "name": "stdout"
        }
      ]
    },
    {
      "cell_type": "markdown",
      "metadata": {
        "id": "4224e0d9-f3f4-4db5-a25e-a8fdabd1b034"
      },
      "source": [
        "## Limpieza inicial de datos"
      ],
      "id": "4224e0d9-f3f4-4db5-a25e-a8fdabd1b034"
    },
    {
      "cell_type": "markdown",
      "metadata": {
        "id": "wpGnhL8FFpg-"
      },
      "source": [
        "Para empezar, se cargaron los datos y se reemplazaron a los datos inválidos por NaN (valores nulos en columnas como presión sanguínea, glucosa o insulina). También se separó a los datos en train (64%), validación (16%) y test (20%)."
      ],
      "id": "wpGnhL8FFpg-"
    },
    {
      "cell_type": "code",
      "metadata": {
        "id": "4e8a92b9-c8be-44a1-bb70-e7ec678a246b"
      },
      "source": [
        "df = pd.read_csv('/content/drive/MyDrive/Redes Neuronales/TP2/Ejercicio 1/diabetes.csv')\n",
        "df = df.replace(0, np.nan)\n",
        "df[['Pregnancies', 'Outcome']] = df[['Pregnancies', 'Outcome']].replace(np.nan, 0)\n",
        "\n",
        "train_data, test_data = train_test_split(df, test_size = .2, random_state = 0, shuffle = True)\n",
        "train_data, validation_data = train_test_split(train_data, test_size = .2, random_state = 0, shuffle = True)\n",
        "\n",
        "grouped = train_data.groupby('Outcome')"
      ],
      "id": "4e8a92b9-c8be-44a1-bb70-e7ec678a246b",
      "execution_count": null,
      "outputs": []
    },
    {
      "cell_type": "markdown",
      "metadata": {
        "id": "9rZAnTzVSAjF"
      },
      "source": [
        "Luego, en los datos de entrenamiento, se reemplazó a los valores NaN por la media según la clase (media de diabetes para las entradas de diabetes y lo mismo con no diabetes). En los datos de validación, se reemplazó con la media total de los datos de entrenamiento, independientemente de la clase.\n",
        "\n",
        "También se normalizaron las distintas columnas al Z-Score."
      ],
      "id": "9rZAnTzVSAjF"
    },
    {
      "cell_type": "code",
      "metadata": {
        "id": "a28ad66b-f4a6-480f-a801-396cdf275861"
      },
      "source": [
        "train_data_r = train_data.copy()\n",
        "train_data_r[train_data_r['Outcome'] == 0] = train_data_r[train_data_r['Outcome'] == 0].fillna(grouped.get_group(0).mean())\n",
        "train_data_r[train_data_r['Outcome'] == 1] = train_data_r[train_data_r['Outcome'] == 1].fillna(grouped.get_group(1).mean())\n",
        "\n",
        "val_data_r = validation_data.fillna(train_data_r.mean())\n",
        "\n",
        "test_data_r = test_data.fillna(train_data_r.mean())\n",
        "\n",
        "train_cols = train_data.columns[list(map(lambda v: v not in ['Insulin', 'Outcome'], train_data.columns))]\n",
        "\n",
        "sc = scaler()\n",
        "\n",
        "train_data_r = np.hstack((sc.fit_transform(train_data_r[train_cols]), train_data_r['Outcome'].to_numpy().reshape(-1, 1)))\n",
        "val_data_r = np.hstack((sc.transform(val_data_r[train_cols]), val_data_r['Outcome'].to_numpy().reshape(-1, 1)))\n",
        "test_data_r = np.hstack((sc.transform(test_data_r[train_cols]), test_data_r['Outcome'].to_numpy().reshape(-1, 1)))\n",
        "\n",
        "train_data_r = pd.DataFrame(train_data_r, columns = np.append(train_cols, 'Outcome'))\n",
        "val_data_r = pd.DataFrame(val_data_r, columns = np.append(train_cols, 'Outcome'))\n",
        "test_data_r = pd.DataFrame(test_data_r, columns = np.append(train_cols, 'Outcome'))"
      ],
      "id": "a28ad66b-f4a6-480f-a801-396cdf275861",
      "execution_count": null,
      "outputs": []
    },
    {
      "cell_type": "markdown",
      "metadata": {
        "id": "ec71d73c-a3f6-46da-841c-ae97f9b05fb6"
      },
      "source": [
        "## Definición de métricas"
      ],
      "id": "ec71d73c-a3f6-46da-841c-ae97f9b05fb6"
    },
    {
      "cell_type": "markdown",
      "metadata": {
        "id": "BA1f3OTWSTsv"
      },
      "source": [
        "A continuación se definieron distintas funciones para obtener distintas métricas a partir de datos reales y los predecidos. \n",
        "\n",
        "Valor predictivo negativo: $\\frac{V_N}{P_N}$\n",
        "\n",
        "Especificidad: $\\frac{V_N}{I_N}$\n",
        "\n",
        "Sensibilidad: $\\frac{V_P}{I_P}$\n",
        "\n",
        "Valor predictivo positivo: $\\frac{V_P}{P_P}$\n",
        "\n",
        "Accuracy: $\\frac{V_N + V_P}{P_P + P_N + I_N + I_P}$\n",
        "\n",
        "Donde el prefijo $V$ hace referencia a \"verdadero\", el prefijo $I$ hace referencia al input, el prefijo $P$ hace referencia a las predicciones, el sufijo $P$ hace referencia a los positivos y el sufijo $N$ hace referencia a los negativos.\n",
        "\n",
        "También se definió el $F_{\\beta}$ score = $\\frac{(1 + \\beta^2) \\cdot V_P}{(1 + \\beta^2) \\cdot V_P + \\beta^2 \\cdot F_N + F_P}$.\n",
        "\n",
        "Donde $F_N$ y $F_P$ son los falsos negativos y los falsos positivos, respectivamente. Tomando esto, se tendrá que $I_N$ = $F_P + V_N$ y que $I_P$ = $F_N + V_P$."
      ],
      "id": "BA1f3OTWSTsv"
    },
    {
      "cell_type": "code",
      "metadata": {
        "id": "bc4da17f-3160-44ce-8f5d-3b376a30b77c"
      },
      "source": [
        "def v_pred_neg(y_ok, y_pred):\n",
        "    return np.count_nonzero(~y_ok & ~y_pred) / np.count_nonzero(~y_pred)\n",
        "\n",
        "def specif(y_ok, y_pred):\n",
        "    return np.count_nonzero(~y_ok & ~y_pred) / np.count_nonzero(~y_ok)\n",
        "\n",
        "def sensib(y_ok, y_pred):\n",
        "    return np.count_nonzero(y_pred & y_ok) / np.count_nonzero(y_ok)\n",
        "\n",
        "def v_pred_pos(y_ok, y_pred):\n",
        "    return np.count_nonzero(y_pred & y_ok) / np.count_nonzero(y_pred)\n",
        "\n",
        "def accuracy(y_ok, y_pred):\n",
        "    return np.count_nonzero(y_pred == y_ok) / y_pred.size\n",
        "\n",
        "def metrics(y_ok, y_pred):\n",
        "    return ['Acc', 'Sensib', 'Specif', 'VpPos', 'VpNeg'], np.array([accuracy(y_ok, y_pred), sensib(y_ok, y_pred), specif(y_ok, y_pred), v_pred_pos(y_ok, y_pred), v_pred_neg(y_ok, y_pred)])\n",
        "\n",
        "def fb_score(y_ok, y_pred, b):\n",
        "    tp = np.count_nonzero(y_ok & y_pred)\n",
        "    fn = np.count_nonzero(y_ok & ~y_pred)\n",
        "    fp = np.count_nonzero(~y_ok & y_pred)\n",
        "    \n",
        "    return (1 + b**2) * tp / ((1 + b**2) * tp + b**2 * fn + fp)\n",
        "\n",
        "def find_maxf2score(mod, train, step):\n",
        "    thresholds = np.arange(step, 1, step)\n",
        "\n",
        "    res = np.zeros((2, thresholds.size))\n",
        "    res[0] = thresholds\n",
        "\n",
        "    y_ok = train[:, -1].astype(bool)\n",
        "    y_pred_int = mod.predict(train[:, :-1]).reshape(-1)\n",
        "\n",
        "    res[1] = [fb_score(y_ok, y_pred_int > th, 2) for th in thresholds]\n",
        "    max_f2score = np.argwhere(res[1] == res[1].max()).reshape(-1)\n",
        "    return res[:, max_f2score]"
      ],
      "id": "bc4da17f-3160-44ce-8f5d-3b376a30b77c",
      "execution_count": null,
      "outputs": []
    },
    {
      "cell_type": "markdown",
      "metadata": {
        "id": "0ce1e3a9-6d58-488e-b4e1-8e77b6d230f0"
      },
      "source": [
        "## Regresión Logística"
      ],
      "id": "0ce1e3a9-6d58-488e-b4e1-8e77b6d230f0"
    },
    {
      "cell_type": "markdown",
      "metadata": {
        "id": "77530ff3-4fd9-4a97-9780-3fd232e496c5"
      },
      "source": [
        "### Binary-Crossentropy"
      ],
      "id": "77530ff3-4fd9-4a97-9780-3fd232e496c5"
    },
    {
      "cell_type": "markdown",
      "metadata": {
        "id": "Q8HDr-RCU7-a"
      },
      "source": [
        "Para la regresión logística, se probaron distintas combinaciones de batch_size, cantidad de epochs, learning rate, optimizador y early_stopping. La mejor combinación encontrada fue la siguiente:\n",
        "\n",
        "*   Batch_size = 32\n",
        "*   Epochs = 1000\n",
        "*   Learning rate: $10^{-3}$ (por defecto).\n",
        "*   Optimizador: Adam.\n",
        "*   Early stopping: 200\n",
        "\n",
        "Estos parámetros no sólo tienen en cuenta el resultado final de la métrica, sino también el tiempo de entrenamiento.\n",
        "\n",
        "Cabe destacar que en este caso se utilizó el Binary-Crossentropy como función de costo y al área bajo la curva ROC (AUC) como métrica del modelo. Como función de activación, se utilizó una sigmoidea."
      ],
      "id": "Q8HDr-RCU7-a"
    },
    {
      "cell_type": "code",
      "metadata": {
        "id": "f90aafbd-eb8b-4bf6-8411-456f5f883caf"
      },
      "source": [
        "optimizer='adam'\n",
        "batch_size = 32\n",
        "epochs = 1000\n",
        "\n",
        "early_stopping = EarlyStopping(patience = 200, monitor = 'loss')\n",
        "\n",
        "model = Sequential()\n",
        "layer = Dense(1, input_shape = (train_cols.size,), activation = 'sigmoid', use_bias = True, kernel_initializer = RandomNormal(0, 1), bias_initializer='zeros')\n",
        "model.add(layer)\n",
        "model.compile(optimizer = optimizer, loss = 'binary_crossentropy', metrics = ['AUC'])\n",
        "\n",
        "history = model.fit(train_data_r[train_cols], train_data_r['Outcome'], verbose = 0, epochs=epochs, batch_size=batch_size,shuffle = True, callbacks = [early_stopping])"
      ],
      "id": "f90aafbd-eb8b-4bf6-8411-456f5f883caf",
      "execution_count": null,
      "outputs": []
    },
    {
      "cell_type": "markdown",
      "metadata": {
        "id": "LwyOkO4HVmnk"
      },
      "source": [
        "Para verificar los resultados, se evaluó al modelo con los datos de entrenamiento, obteniendo una loss de 0.4733 y un AUC de 0.839. Estos valores se compararon con distintas combinaciones de hiperparámetros, y se concluyó que son resultados satisfactorios para un primer modelo básico de una capa y una neurona."
      ],
      "id": "LwyOkO4HVmnk"
    },
    {
      "cell_type": "code",
      "metadata": {
        "colab": {
          "base_uri": "https://localhost:8080/"
        },
        "id": "08890eaf-5f20-4d2b-8c23-b426a673ab96",
        "outputId": "94d0863c-e414-42a5-b0c6-8753815e04e4"
      },
      "source": [
        "model.evaluate(train_data_r[train_cols], train_data_r['Outcome'], verbose = 1)"
      ],
      "id": "08890eaf-5f20-4d2b-8c23-b426a673ab96",
      "execution_count": null,
      "outputs": [
        {
          "output_type": "stream",
          "text": [
            "16/16 [==============================] - 1s 2ms/step - loss: 0.4733 - auc: 0.8393\n"
          ],
          "name": "stdout"
        },
        {
          "output_type": "execute_result",
          "data": {
            "text/plain": [
              "[0.4732872247695923, 0.8392585515975952]"
            ]
          },
          "metadata": {
            "tags": []
          },
          "execution_count": 7
        }
      ]
    },
    {
      "cell_type": "markdown",
      "metadata": {
        "id": "MYjCLgy0V3dy"
      },
      "source": [
        "Luego se tomaron los datos efectivamente predecidos para el entrenamiento, y se buscó el threshold que maximizara el $F_2$ score. Como se puede ver, se encontró que el threshold óptimo estaba en 0.147. Con este valor, el $F_2$ score será de 0.81. Esto da la pauta de que hay una relación satisfactoria entre las predicciones positivas y negativas, y que el modelo no está decayendo en la implementación trivial."
      ],
      "id": "MYjCLgy0V3dy"
    },
    {
      "cell_type": "code",
      "metadata": {
        "colab": {
          "base_uri": "https://localhost:8080/"
        },
        "id": "edb4ad45-af63-4301-95f2-172d6be82039",
        "outputId": "2eaeb49a-330f-4254-eb6e-84b788cf8428"
      },
      "source": [
        "y_pred = model.predict(train_data_r[train_cols]).reshape(-1)\n",
        "max_th, f2score = find_maxf2score(model, np.hstack((train_data_r[train_cols].to_numpy(), train_data_r['Outcome'].to_numpy().reshape(-1, 1))), 1e-3)[:, 0]\n",
        "print('Threshold:', max_th, '\\nF2 score:', f2score)"
      ],
      "id": "edb4ad45-af63-4301-95f2-172d6be82039",
      "execution_count": null,
      "outputs": [
        {
          "output_type": "stream",
          "text": [
            "Threshold: 0.147 \n",
            "F2 score: 0.8125\n"
          ],
          "name": "stdout"
        }
      ]
    },
    {
      "cell_type": "markdown",
      "metadata": {
        "id": "8qw55NQaWZqC"
      },
      "source": [
        "Con este threshold encontrado, se evaluaron todas las otras métricas mencionadas previamente. Se puede observar que los resultados maximizaron la sensibilidad y el valor predictivo negativo, sin decaer en el caso trivial, ya que la distribución inicial es de aproximadamente 65% sin diabetes y 35% con diabetes."
      ],
      "id": "8qw55NQaWZqC"
    },
    {
      "cell_type": "code",
      "metadata": {
        "colab": {
          "base_uri": "https://localhost:8080/"
        },
        "id": "61bc7162-b962-417d-b5c2-4079f34cb50f",
        "outputId": "60c450d6-e7e5-4ed4-b8ca-77f9f0cccec0"
      },
      "source": [
        "names, vals = metrics(train_data_r['Outcome'].astype(bool), y_pred > max_th)\n",
        "print(names)\n",
        "print(vals)"
      ],
      "id": "61bc7162-b962-417d-b5c2-4079f34cb50f",
      "execution_count": null,
      "outputs": [
        {
          "output_type": "stream",
          "text": [
            "['Acc', 'Sensib', 'Specif', 'VpPos', 'VpNeg']\n",
            "[0.6395112  0.96571429 0.45886076 0.49705882 0.9602649 ]\n"
          ],
          "name": "stdout"
        }
      ]
    },
    {
      "cell_type": "markdown",
      "metadata": {
        "id": "bZilunyKXmYI"
      },
      "source": [
        "Luego evaluamos la predicción del modelo para la validación, observándose resultados similares al entrenamiento tanto para la loss como para el AUC. Esto da la pauta de que no hay altos niveles de overfitting."
      ],
      "id": "bZilunyKXmYI"
    },
    {
      "cell_type": "code",
      "metadata": {
        "colab": {
          "base_uri": "https://localhost:8080/"
        },
        "id": "f40824f2-fca2-467f-879f-cc6f0553a237",
        "outputId": "f0ad6ff9-a673-4f22-fb17-11abf0ae5b4d"
      },
      "source": [
        "model.evaluate(val_data_r[train_cols], val_data_r['Outcome'], verbose = 0)"
      ],
      "id": "f40824f2-fca2-467f-879f-cc6f0553a237",
      "execution_count": null,
      "outputs": [
        {
          "output_type": "execute_result",
          "data": {
            "text/plain": [
              "[0.48826533555984497, 0.8162055015563965]"
            ]
          },
          "metadata": {
            "tags": []
          },
          "execution_count": 10
        }
      ]
    },
    {
      "cell_type": "markdown",
      "metadata": {
        "id": "BrhnceNtXv3d"
      },
      "source": [
        "El procedimiento anterior se aplicó también a los datos de validación, pero usando el threshold encontrado para los datos de entrenamiento. Como se observa, las métricas en general tienen un comportamiento comparable a las de los datos de entrenamiento, incluyendo también al $F_2$ score."
      ],
      "id": "BrhnceNtXv3d"
    },
    {
      "cell_type": "code",
      "metadata": {
        "colab": {
          "base_uri": "https://localhost:8080/"
        },
        "id": "fd97d0c6-ee23-4d96-b9ef-ff89b0eae658",
        "outputId": "ba07bc9d-7217-48e8-b816-7168cd6f345f"
      },
      "source": [
        "y_pred_val = model.predict(val_data_r[train_cols]).reshape(-1)\n",
        "names_val, vals_val = metrics(val_data_r['Outcome'].astype(bool), y_pred_val > max_th)\n",
        "print(names_val)\n",
        "print(vals_val)\n",
        "f2score_val = fb_score(val_data_r['Outcome'].astype(bool), y_pred_val > max_th, 2)\n",
        "print('\\nF2 score:', f2score_val)"
      ],
      "id": "fd97d0c6-ee23-4d96-b9ef-ff89b0eae658",
      "execution_count": null,
      "outputs": [
        {
          "output_type": "stream",
          "text": [
            "['Acc', 'Sensib', 'Specif', 'VpPos', 'VpNeg']\n",
            "[0.59349593 0.97826087 0.36363636 0.4787234  0.96551724]\n",
            "\n",
            "F2 score: 0.8093525179856115\n"
          ],
          "name": "stdout"
        }
      ]
    },
    {
      "cell_type": "markdown",
      "metadata": {
        "id": "v_OPs2jkX9FM"
      },
      "source": [
        "A continuación, se realizaron los gráficos del mapeo de los datos al pasar a través del modelo, tanto para el entrenamiento como para la validación. Como se observa, el modelo separa de cierta forma a los datos, pero se puede ver claramente que no hay un alto grado de separabilidad lineal a la salida."
      ],
      "id": "v_OPs2jkX9FM"
    },
    {
      "cell_type": "code",
      "metadata": {
        "colab": {
          "base_uri": "https://localhost:8080/",
          "height": 336
        },
        "id": "PbEottIPNKzm",
        "outputId": "93d25576-05e7-48a6-c11d-04de0ab487e3"
      },
      "source": [
        "out_train = model.predict(train_data_r[train_cols]).reshape(-1)\n",
        "pos_train = out_train[train_data_r['Outcome'] == 1]\n",
        "neg_train = out_train[train_data_r['Outcome'] == 0]\n",
        "\n",
        "fig, (ax1, ax2) = plt.subplots(1, 2, figsize = (12, 5))\n",
        "sns.kdeplot(pos_train, label = 'Positivos', ax = ax1);\n",
        "sns.kdeplot(neg_train, label = 'Negativos', ax = ax1);\n",
        "ax1.set_title('Datos de entrenamiento');\n",
        "\n",
        "out_val = model.predict(val_data_r[train_cols]).reshape(-1)\n",
        "pos_val = out_val[val_data_r['Outcome'] == 1]\n",
        "neg_val = out_val[val_data_r['Outcome'] == 0]\n",
        "\n",
        "sns.kdeplot(pos_val, label = 'Positivos', ax = ax2);\n",
        "sns.kdeplot(neg_val, label = 'Negativos', ax = ax2);\n",
        "ax2.set_title('Datos de validación');\n",
        "\n",
        "fig.subplots_adjust(wspace = .5)\n",
        "ax1.legend(); ax2.legend();"
      ],
      "id": "PbEottIPNKzm",
      "execution_count": null,
      "outputs": [
        {
          "output_type": "display_data",
          "data": {
            "image/png": "[encoded data removed]",
            "text/plain": [
              "<Figure size 864x360 with 2 Axes>"
            ]
          },
          "metadata": {
            "tags": [],
            "needs_background": "light"
          }
        }
      ]
    },
    {
      "cell_type": "markdown",
      "metadata": {
        "id": "gEdB54bEYJbu"
      },
      "source": [
        "Luego se graficaron las curvas ROC para ambos casos. Se puede ver claramente que la curva de entrenamiento es más \"alta\", es decir, se acerca a 1 más rápidamente que los de validación, lo cual tiene sentido. Sin embargo, como se calculó antes, ambas mantienen un grado similar de área bajo la curva, con lo cual el modelo es satisfactorio."
      ],
      "id": "gEdB54bEYJbu"
    },
    {
      "cell_type": "code",
      "metadata": {
        "colab": {
          "base_uri": "https://localhost:8080/",
          "height": 336
        },
        "id": "912wIl_wb8LH",
        "outputId": "ec131008-53a9-422e-8729-73b0dddfbaec"
      },
      "source": [
        "fpr_train, tpr_train, thresholds_train = roc_curve(train_data_r['Outcome'], out_train)\n",
        "fpr_val, tpr_val, thresholds_val = roc_curve(val_data_r['Outcome'], out_val)\n",
        "\n",
        "fig, (ax1, ax2) = plt.subplots(1, 2, figsize = (12, 5))\n",
        "ax1.set_title('Datos de entrenamiento - Curva ROC');\n",
        "ax1.plot(fpr_train, tpr_train)\n",
        "\n",
        "ax2.set_title('Datos de validación - Curva ROC');\n",
        "ax2.plot(fpr_val, tpr_val)\n",
        "\n",
        "fig.subplots_adjust(wspace = .5)"
      ],
      "id": "912wIl_wb8LH",
      "execution_count": null,
      "outputs": [
        {
          "output_type": "display_data",
          "data": {
            "image/png": "[encoded data removed]",
            "text/plain": [
              "<Figure size 864x360 with 2 Axes>"
            ]
          },
          "metadata": {
            "tags": [],
            "needs_background": "light"
          }
        }
      ]
    },
    {
      "cell_type": "markdown",
      "metadata": {
        "id": "4cba0820-89dd-40d2-9a60-5d38982b2f2e"
      },
      "source": [
        "## Regresión Logística + feature engineering"
      ],
      "id": "4cba0820-89dd-40d2-9a60-5d38982b2f2e"
    },
    {
      "cell_type": "markdown",
      "metadata": {
        "id": "b5mZYybwYaBv"
      },
      "source": [
        "Luego, se realizó un procesamiento de los datos con el mismo modelo anterior, pero haciendo feature engineering con los datos de entrada. Comparando entre distintos órdenes de features polinomiales, se encontró que el que mejor funcionaba era de orden 5, ya que grados más altos no presentaban mejoras apreciables, aunque sí generaban cierto nivel de overfitting, a pesar de tener regularizaciones en el entrenamiento."
      ],
      "id": "b5mZYybwYaBv"
    },
    {
      "cell_type": "markdown",
      "metadata": {
        "id": "34909892-0065-467b-93a1-0917bc06344e"
      },
      "source": [
        "### Binary-Crossentropy"
      ],
      "id": "34909892-0065-467b-93a1-0917bc06344e"
    },
    {
      "cell_type": "markdown",
      "metadata": {
        "id": "dqaygD_ZYvJE"
      },
      "source": [
        "La función $\\textit{poly_and_normalize}$ recibe los datos de entrada, el orden del polinomio, las columnas a utilizar y la columna de salida. Devuelve el resultado de feature engineering con el orden elegido y normalizado a Z-Score, y los datos de salida."
      ],
      "id": "dqaygD_ZYvJE"
    },
    {
      "cell_type": "code",
      "metadata": {
        "id": "e73d8f28-4fb6-4aec-a5f4-e14d48f4815d"
      },
      "source": [
        "poly_order = 5\n",
        "features = PolynomialFeatures(poly_order, include_bias = False)\n",
        "poly_scaler = scaler()\n",
        "\n",
        "def poly_and_normalize(data, cols, out_col, istrain = False):\n",
        "\n",
        "    if istrain: res = poly_scaler.fit_transform(features.fit_transform(data[cols]))\n",
        "    else: res = poly_scaler.transform(features.transform(data[cols]))\n",
        "\n",
        "    res_out = data[out_col]\n",
        "    \n",
        "    return res, res_out"
      ],
      "id": "e73d8f28-4fb6-4aec-a5f4-e14d48f4815d",
      "execution_count": null,
      "outputs": []
    },
    {
      "cell_type": "code",
      "metadata": {
        "id": "bac2e775-71da-40f5-a6db-f8853a998265"
      },
      "source": [
        "train_features, train_out = poly_and_normalize(train_data_r, train_cols, 'Outcome', True)\n",
        "val_features, out_val = poly_and_normalize(val_data_r, train_cols, 'Outcome', False)"
      ],
      "id": "bac2e775-71da-40f5-a6db-f8853a998265",
      "execution_count": null,
      "outputs": []
    },
    {
      "cell_type": "markdown",
      "metadata": {
        "id": "0Enm2Ij4Y7L6"
      },
      "source": [
        "Para este modelo, se utilizó la siguiente configuración:\n",
        "\n",
        "*   Batch_size = 32\n",
        "*   Epochs = 1000\n",
        "*   Learning rate: $10^{-3}$ (por defecto).\n",
        "*   Optimizador: Adam.\n",
        "*   Early stopping: 100\n",
        "\n",
        "También se utilizó regularización $L_2$ con $\\lambda$ = $150^{-3}$ tanto para los pesos como para el bias."
      ],
      "id": "0Enm2Ij4Y7L6"
    },
    {
      "cell_type": "code",
      "metadata": {
        "id": "29913360-009b-4f03-8fbe-14917ed954ec"
      },
      "source": [
        "optimizer = 'adam'\n",
        "batch_size = 32\n",
        "epochs = 1000\n",
        "\n",
        "early_stopping = EarlyStopping(patience = 100, monitor = 'loss')\n",
        "model_2 = Sequential()\n",
        "layer = Dense(\n",
        "      1, \n",
        "      input_shape=(train_features.shape[1],),\n",
        "      activation='sigmoid',\n",
        "      use_bias=True,\n",
        "      kernel_initializer=RandomNormal(0, 1),\n",
        "      bias_initializer='zeros',\n",
        "      bias_regularizer = l2(150e-3),\n",
        "      kernel_regularizer = l2(150e-3)\n",
        ")\n",
        "model_2.add(layer)\n",
        "model_2.compile(optimizer=optimizer, loss = 'binary_crossentropy', metrics=['AUC'])\n",
        "\n",
        "history = model_2.fit(train_features, train_out, verbose = 0, epochs=epochs, batch_size=batch_size,shuffle = True, callbacks = [early_stopping])"
      ],
      "id": "29913360-009b-4f03-8fbe-14917ed954ec",
      "execution_count": null,
      "outputs": []
    },
    {
      "cell_type": "markdown",
      "metadata": {
        "id": "-w6NmiHFZOdq"
      },
      "source": [
        "Al verificar los resultados, se puede ver que el área de curva ROC para el entrenamiento mejoró considerablemente con respecto al caso anterior."
      ],
      "id": "-w6NmiHFZOdq"
    },
    {
      "cell_type": "code",
      "metadata": {
        "colab": {
          "base_uri": "https://localhost:8080/"
        },
        "id": "3e1ef68a-e4b4-4c07-84fc-dae8b3e9a742",
        "outputId": "83f58952-a284-4858-f7e9-cdd157eb2627"
      },
      "source": [
        "model_2.evaluate(train_features, train_out, verbose = 0)"
      ],
      "id": "3e1ef68a-e4b4-4c07-84fc-dae8b3e9a742",
      "execution_count": null,
      "outputs": [
        {
          "output_type": "execute_result",
          "data": {
            "text/plain": [
              "[0.49360644817352295, 0.9028119444847107]"
            ]
          },
          "metadata": {
            "tags": []
          },
          "execution_count": 60
        }
      ]
    },
    {
      "cell_type": "markdown",
      "metadata": {
        "id": "b4RxIGDlgXJ3"
      },
      "source": [
        "Como se puede observar, el threshold que maximiza el $F_2$ score encontrado para los features polinomiales es 0.31, con un $F_2$ score de 0.84, que es mayor que en el caso anterior."
      ],
      "id": "b4RxIGDlgXJ3"
    },
    {
      "cell_type": "code",
      "metadata": {
        "colab": {
          "base_uri": "https://localhost:8080/"
        },
        "id": "Ns6RPLxNb9Xv",
        "outputId": "70a02b1b-cd53-4f1b-f1a7-779d0655ffef"
      },
      "source": [
        "y_pred_2 = model_2.predict(train_features).reshape(-1)\n",
        "max_th_2, f2score_2 = find_maxf2score(model_2, np.hstack((train_features, train_data_r['Outcome'].to_numpy().reshape(-1, 1))), step = 1e-3)[:, 0]\n",
        "print('Threshold:', max_th_2, '\\nF2 score:', f2score_2)"
      ],
      "id": "Ns6RPLxNb9Xv",
      "execution_count": null,
      "outputs": [
        {
          "output_type": "stream",
          "text": [
            "Threshold: 0.31 \n",
            "F2 score: 0.8398821218074656\n"
          ],
          "name": "stdout"
        }
      ]
    },
    {
      "cell_type": "markdown",
      "metadata": {
        "id": "un-ZTyMbZiB6"
      },
      "source": [
        "En cuanto a la validación, si bien ésta mejoró con respecto al caso anterior, con lo cual el modelo está introduciendo una clara mejora, se puede ver que este valor es bastante menor que para el entrenamiento. Esto da indicio de que el modelo está aprendiendo con cierto grado de overfitting. Distintas combinaciones de los parámetros de regularización no ayudaron a mejorar este comportamiento a niveles mayores al encontrado."
      ],
      "id": "un-ZTyMbZiB6"
    },
    {
      "cell_type": "code",
      "metadata": {
        "tags": [],
        "colab": {
          "base_uri": "https://localhost:8080/"
        },
        "id": "08b7bab3-0b3b-498f-b980-cdb9994878e9",
        "outputId": "96641c6e-8a75-48de-d081-16365f336fb4"
      },
      "source": [
        "model_2.evaluate(val_features, out_val, verbose = 0)"
      ],
      "id": "08b7bab3-0b3b-498f-b980-cdb9994878e9",
      "execution_count": null,
      "outputs": [
        {
          "output_type": "execute_result",
          "data": {
            "text/plain": [
              "[0.5393021702766418, 0.8529080152511597]"
            ]
          },
          "metadata": {
            "tags": []
          },
          "execution_count": 62
        }
      ]
    },
    {
      "cell_type": "markdown",
      "metadata": {
        "id": "h_SUfltYhOCP"
      },
      "source": [
        "El comportamiento previamente mencionado también se evidencia al calcular el $F_2$ score con el threshold encontrado. Se puede ver que el nuevo $F_2$ score para validación es similar al caso anterior, pero menor que el de entrenamiento, lo cual da evidencia de overfitting."
      ],
      "id": "h_SUfltYhOCP"
    },
    {
      "cell_type": "code",
      "metadata": {
        "colab": {
          "base_uri": "https://localhost:8080/"
        },
        "id": "3n-ik3Tqb2Bg",
        "outputId": "555b9895-901a-4628-c0c9-ad3ca322e850"
      },
      "source": [
        "y_pred_val_2 = model_2.predict(val_features).reshape(-1)\n",
        "names_val_2, vals_val_2 = metrics(val_data_r['Outcome'].astype(bool), y_pred_val_2 > max_th_2)\n",
        "print(names_val)\n",
        "print(vals_val_2)\n",
        "f2score_val_2 = fb_score(val_data_r['Outcome'].astype(bool), y_pred_val_2 > max_th_2, 2)\n",
        "print('\\nF2 score:', f2score_val_2)"
      ],
      "id": "3n-ik3Tqb2Bg",
      "execution_count": null,
      "outputs": [
        {
          "output_type": "stream",
          "text": [
            "['Acc', 'Sensib', 'Specif', 'VpPos', 'VpNeg']\n",
            "[0.61788618 0.97826087 0.4025974  0.49450549 0.96875   ]\n",
            "\n",
            "F2 score: 0.8181818181818182\n"
          ],
          "name": "stdout"
        }
      ]
    },
    {
      "cell_type": "markdown",
      "metadata": {
        "id": "ppzY-QhfZ5Jx"
      },
      "source": [
        "Al igual que en el caso anterior, se muestra el mapeo de los datos y la curva ROC."
      ],
      "id": "ppzY-QhfZ5Jx"
    },
    {
      "cell_type": "code",
      "metadata": {
        "colab": {
          "base_uri": "https://localhost:8080/",
          "height": 336
        },
        "id": "KVJMCFalVEjZ",
        "outputId": "1e3242ae-d3f8-4762-89be-c229f37b36a6"
      },
      "source": [
        "out_train_features = model_2.predict(train_features).reshape(-1)\n",
        "pos_train_features = out_train_features[train_data_r['Outcome'] == 1]\n",
        "neg_train_features = out_train_features[train_data_r['Outcome'] == 0]\n",
        "\n",
        "fig, (ax1, ax2) = plt.subplots(1, 2, figsize = (12, 5))\n",
        "sns.kdeplot(pos_train_features, label = 'Positivos', ax = ax1);\n",
        "sns.kdeplot(neg_train_features, label = 'Negativos', ax = ax1);\n",
        "ax1.set_title('Datos de entrenamiento - Feature Engineering');\n",
        "\n",
        "out_val_features = model_2.predict(val_features).reshape(-1)\n",
        "pos_val_features = out_val_features[val_data_r['Outcome'] == 1]\n",
        "neg_val_features = out_val_features[val_data_r['Outcome'] == 0]\n",
        "\n",
        "sns.kdeplot(pos_val_features, label = 'Positivos', ax = ax2);\n",
        "sns.kdeplot(neg_val_features, label = 'Negativos', ax = ax2);\n",
        "ax2.set_title('Datos de validación - Features Engineering');\n",
        "\n",
        "fig.subplots_adjust(wspace = .5)\n",
        "ax1.legend();\n",
        "ax2.legend();"
      ],
      "id": "KVJMCFalVEjZ",
      "execution_count": null,
      "outputs": [
        {
          "output_type": "display_data",
          "data": {
            "image/png": "[encoded data removed]",
            "text/plain": [
              "<Figure size 864x360 with 2 Axes>"
            ]
          },
          "metadata": {
            "tags": [],
            "needs_background": "light"
          }
        }
      ]
    },
    {
      "cell_type": "markdown",
      "metadata": {
        "id": "MY5D7Pz3hl9i"
      },
      "source": [
        "Se puede ver que, en este caso, la curva ROC tiende a 1 más rápidamente que en el modelo sin features polinomiales, lo cual es de esperarse. Siguiendo con los resultados obtenidos previamente, también se ve que la curva ROC de validación es notablemente menos pronunciada que la de entrenamiento, dejando ver cierto overfitting que, como se remarcó, no logró solucionarse con parámetros de regularización $L_1$ y $L_2$ para pesos y bias."
      ],
      "id": "MY5D7Pz3hl9i"
    },
    {
      "cell_type": "code",
      "metadata": {
        "colab": {
          "base_uri": "https://localhost:8080/",
          "height": 336
        },
        "id": "BZ27nQg-dpqn",
        "outputId": "e0670ed3-3a82-4e29-9da2-41f90d62b74e"
      },
      "source": [
        "fpr_train_features, tpr_train_features, thresholds_train_features = roc_curve(train_data_r['Outcome'], out_train_features)\n",
        "fpr_val_features, tpr_val_features, thresholds_val_features = roc_curve(val_data_r['Outcome'], out_val_features)\n",
        "\n",
        "fig, (ax1, ax2) = plt.subplots(1, 2, figsize = (12, 5))\n",
        "ax1.set_title('Datos de entrenamiento - Curva ROC');\n",
        "ax1.plot(fpr_train_features, tpr_train_features)\n",
        "\n",
        "ax2.set_title('Datos de validación - Curva ROC');\n",
        "ax2.plot(fpr_val_features, tpr_val_features)\n",
        "\n",
        "fig.subplots_adjust(wspace = .5)"
      ],
      "id": "BZ27nQg-dpqn",
      "execution_count": null,
      "outputs": [
        {
          "output_type": "display_data",
          "data": {
            "image/png": "[encoded data removed]",
            "text/plain": [
              "<Figure size 864x360 with 2 Axes>"
            ]
          },
          "metadata": {
            "tags": [],
            "needs_background": "light"
          }
        }
      ]
    },
    {
      "cell_type": "markdown",
      "metadata": {
        "id": "005c11b0-2f0f-4c3f-9cad-f921473e2d42"
      },
      "source": [
        "## MLP"
      ],
      "id": "005c11b0-2f0f-4c3f-9cad-f921473e2d42"
    },
    {
      "cell_type": "markdown",
      "metadata": {
        "id": "5IAyMQiUh7n4"
      },
      "source": [
        "Por último, se analizaron los datos con un modelo de MLP. Los parámetros utilizados fueron los siguientes:\n",
        "\n",
        "*   Batch_size = 64\n",
        "*   Epochs = 2000\n",
        "*   Learning rate: constante en 0.005\n",
        "*   Optimizador: Adam.\n",
        "*   Early stopping: 400\n",
        "\n",
        "La topología utilizada para la red fue de cuatro capas densas, con dos capas intermedias de BatchNormalization y una de DropOut. La primera capa tiene cuatro neuronas y una función de activación sigmoidea. La segunda y tercera capas densas tienen cuatro y dos neuronas, respectivamente, ambas con función de activación 'relu', y seguidas de capas de BatchNormalization. Luego la de DropOut con factor de 50%. Finalmente, la capa de salida con una neurona y función de activación sigmoidea.\n",
        "\n",
        "Cabe destacar que en la primera capa se utilizó una regularización $L_2$ de $\\lambda$ = $5\\cdot 10^{-3}$ para los pesos y para el bias."
      ],
      "id": "5IAyMQiUh7n4"
    },
    {
      "cell_type": "code",
      "metadata": {
        "id": "c3a3b767-9718-43fe-b49d-8dfc85724111"
      },
      "source": [
        "batch_size = 64\n",
        "epochs = 2000\n",
        "\n",
        "early_stopping = EarlyStopping(patience = 400, monitor = 'loss')\n",
        "optimizer = Adam(learning_rate = .005)\n",
        "\n",
        "outs = [4, 4, 2, 1]\n",
        "loss = 'binary_crossentropy'\n",
        "model_3 = Sequential()\n",
        "model_3.add(\n",
        "    Dense(outs[0], \n",
        "          input_shape = (train_cols.size,), \n",
        "          activation = 'sigmoid', \n",
        "          kernel_initializer = RandomNormal(0, 1), \n",
        "          use_bias = True, \n",
        "          bias_initializer = 'zeros',\n",
        "          kernel_regularizer = l2(5e-3),\n",
        "          bias_regularizer = l2(5e-3)\n",
        "      ))\n",
        "  \n",
        "for out in outs[1:-1]:\n",
        "    model_3.add(Dense(out, activation = 'relu', use_bias = True, bias_initializer = 'zeros'))\n",
        "    model_3.add(BatchNormalization())\n",
        "  \n",
        "model_3.add(Dropout(.5))\n",
        "model_3.add(Dense(outs[-1], activation = 'sigmoid', use_bias = True, bias_initializer = 'zeros'))\n",
        "model_3.compile(optimizer = optimizer, loss = loss, metrics = ['AUC'])\n",
        "\n",
        "history = model_3.fit(train_data_r[train_cols], train_data_r['Outcome'], verbose = 0, epochs=epochs, batch_size=batch_size,shuffle = True, callbacks = [early_stopping])"
      ],
      "id": "c3a3b767-9718-43fe-b49d-8dfc85724111",
      "execution_count": null,
      "outputs": []
    },
    {
      "cell_type": "markdown",
      "metadata": {
        "id": "6ge9MJ0Hik1_"
      },
      "source": [
        "Como se puede ver, los resultados obtenidos fueron levemente menores al caso de features polinomiales, con un AUC de 0.861."
      ],
      "id": "6ge9MJ0Hik1_"
    },
    {
      "cell_type": "code",
      "metadata": {
        "colab": {
          "base_uri": "https://localhost:8080/"
        },
        "id": "9c7aca6f-fb84-4a14-879b-6efe0ef382cb",
        "outputId": "baf51f22-805f-4fc3-c4c3-d3dc3dff3ace"
      },
      "source": [
        "model_3.evaluate(train_data_r[train_cols], train_data_r['Outcome'])"
      ],
      "id": "9c7aca6f-fb84-4a14-879b-6efe0ef382cb",
      "execution_count": null,
      "outputs": [
        {
          "output_type": "stream",
          "text": [
            "16/16 [==============================] - 0s 3ms/step - loss: 0.4741 - auc: 0.8615\n"
          ],
          "name": "stdout"
        },
        {
          "output_type": "execute_result",
          "data": {
            "text/plain": [
              "[0.4740672707557678, 0.8614919185638428]"
            ]
          },
          "metadata": {
            "tags": []
          },
          "execution_count": 33
        }
      ]
    },
    {
      "cell_type": "markdown",
      "metadata": {
        "id": "a-IystA7jTfV"
      },
      "source": [
        "En este caso, el valor de threshold que maximiza el $F_2$ score es de 0.171, dando un $F_2$ score similar a los casos anteriores, de 0.831."
      ],
      "id": "a-IystA7jTfV"
    },
    {
      "cell_type": "code",
      "metadata": {
        "colab": {
          "base_uri": "https://localhost:8080/"
        },
        "id": "VzuElcWYiz-v",
        "outputId": "351f83f4-5049-45dc-d689-9e70e991955e"
      },
      "source": [
        "y_pred_3 = model_3.predict(train_data_r[train_cols]).reshape(-1)\n",
        "max_th_3, f2score_3 = find_maxf2score(model_3, np.hstack((train_data_r[train_cols].to_numpy(), train_data_r['Outcome'].to_numpy().reshape(-1, 1))), step = 1e-3)[:, 0]\n",
        "print('Threshold:', max_th_3, '\\nF2 score:', f2score_3)"
      ],
      "id": "VzuElcWYiz-v",
      "execution_count": null,
      "outputs": [
        {
          "output_type": "stream",
          "text": [
            "Threshold: 0.171 \n",
            "F2 score: 0.8317120622568094\n"
          ],
          "name": "stdout"
        }
      ]
    },
    {
      "cell_type": "markdown",
      "metadata": {
        "id": "dQMW3Axe2Umf"
      },
      "source": [
        "En cuanto a la validación, se puede observar que el AUC es de 0.844, similar a los anteriores, pero se aprecia un menor grado de overfitting que en el modelo anterior."
      ],
      "id": "dQMW3Axe2Umf"
    },
    {
      "cell_type": "code",
      "metadata": {
        "colab": {
          "base_uri": "https://localhost:8080/"
        },
        "id": "365dc4f2-bbef-4fe8-8e28-00de42612d6a",
        "outputId": "6fbcabda-c749-45d2-8a4a-465475909d66"
      },
      "source": [
        "model_3.evaluate(val_data_r[train_cols], val_data_r['Outcome'])"
      ],
      "id": "365dc4f2-bbef-4fe8-8e28-00de42612d6a",
      "execution_count": null,
      "outputs": [
        {
          "output_type": "stream",
          "text": [
            "4/4 [==============================] - 0s 3ms/step - loss: 0.5020 - auc: 0.8436\n"
          ],
          "name": "stdout"
        },
        {
          "output_type": "execute_result",
          "data": {
            "text/plain": [
              "[0.5019741058349609, 0.8435911536216736]"
            ]
          },
          "metadata": {
            "tags": []
          },
          "execution_count": 35
        }
      ]
    },
    {
      "cell_type": "markdown",
      "metadata": {
        "id": "GHlR0YnQ21Og"
      },
      "source": [
        "Para este caso, el valor del $F_2$ score es de 0.806, nuevamente similar al modelo de features polinomiales. "
      ],
      "id": "GHlR0YnQ21Og"
    },
    {
      "cell_type": "code",
      "metadata": {
        "colab": {
          "base_uri": "https://localhost:8080/"
        },
        "id": "L5etIJu9ji2E",
        "outputId": "d15ca57f-a5e8-41d2-e79e-bf4ffb6f3b8e"
      },
      "source": [
        "y_pred_val_3 = model_3.predict(val_data_r[train_cols]).reshape(-1)\n",
        "names_val_3, vals_val_3 = metrics(val_data_r['Outcome'].astype(bool), y_pred_val_3 > max_th_3)\n",
        "print(names_val)\n",
        "print(vals_val_3)\n",
        "f2score_val_3 = fb_score(val_data_r['Outcome'].astype(bool), y_pred_val_3 > max_th_3, 2)\n",
        "print('\\nF2 score:', f2score_val_3)"
      ],
      "id": "L5etIJu9ji2E",
      "execution_count": null,
      "outputs": [
        {
          "output_type": "stream",
          "text": [
            "['Acc', 'Sensib', 'Specif', 'VpPos', 'VpNeg']\n",
            "[0.61788618 0.95652174 0.41558442 0.49438202 0.94117647]\n",
            "\n",
            "F2 score: 0.8058608058608059\n"
          ],
          "name": "stdout"
        }
      ]
    },
    {
      "cell_type": "code",
      "metadata": {
        "colab": {
          "base_uri": "https://localhost:8080/",
          "height": 336
        },
        "id": "khLRS28JaSr9",
        "outputId": "7d9d3b60-0b89-4dab-9e1a-e39cc9c5d225"
      },
      "source": [
        "out_train_mlp = model_3.predict(train_data_r[train_cols]).reshape(-1)\n",
        "pos_train_mlp = out_train_mlp[train_data_r['Outcome'] == 1]\n",
        "neg_train_mlp = out_train_mlp[train_data_r['Outcome'] == 0]\n",
        "\n",
        "fig, (ax1, ax2) = plt.subplots(1, 2, figsize = (12, 5))\n",
        "sns.kdeplot(pos_train_mlp, label = 'Positivos', ax = ax1);\n",
        "sns.kdeplot(neg_train_mlp, label = 'Negativos', ax = ax1);\n",
        "ax1.set_title('Datos de entrenamiento - MLP');\n",
        "\n",
        "out_val_mlp = model_3.predict(val_data_r[train_cols]).reshape(-1)\n",
        "pos_val_mlp = out_val_mlp[val_data_r['Outcome'] == 1]\n",
        "neg_val_mlp = out_val_mlp[val_data_r['Outcome'] == 0]\n",
        "\n",
        "sns.kdeplot(pos_val_mlp, label = 'Positivos', ax = ax2);\n",
        "sns.kdeplot(neg_val_mlp, label = 'Negativos', ax = ax2);\n",
        "ax2.set_title('Datos de validación - MLP');\n",
        "\n",
        "fig.subplots_adjust(wspace = .5)\n",
        "ax1.legend();\n",
        "ax2.legend();"
      ],
      "id": "khLRS28JaSr9",
      "execution_count": null,
      "outputs": [
        {
          "output_type": "display_data",
          "data": {
            "image/png": "[encoded data removed]",
            "text/plain": [
              "<Figure size 864x360 with 2 Axes>"
            ]
          },
          "metadata": {
            "tags": [],
            "needs_background": "light"
          }
        }
      ]
    },
    {
      "cell_type": "code",
      "metadata": {
        "colab": {
          "base_uri": "https://localhost:8080/",
          "height": 336
        },
        "id": "fTjS34cWYi3n",
        "outputId": "74cdf0be-669c-45e6-c76e-7b9f30c2bf97"
      },
      "source": [
        "fpr_train_mlp, tpr_train_mlp, thresholds_train_mlp = roc_curve(train_data_r['Outcome'], out_train_mlp)\n",
        "fpr_val_mlp, tpr_val_mlp, thresholds_val_mlp = roc_curve(val_data_r['Outcome'], out_val_mlp)\n",
        "\n",
        "fig, (ax1, ax2) = plt.subplots(1, 2, figsize = (12, 5))\n",
        "ax1.set_title('Datos de entrenamiento - Curva ROC');\n",
        "ax1.plot(fpr_train_mlp, tpr_train_mlp)\n",
        "\n",
        "ax2.set_title('Datos de validación - Curva ROC');\n",
        "ax2.plot(fpr_val_mlp, tpr_val_mlp)\n",
        "\n",
        "fig.subplots_adjust(wspace = .5)"
      ],
      "id": "fTjS34cWYi3n",
      "execution_count": null,
      "outputs": [
        {
          "output_type": "display_data",
          "data": {
            "image/png": "[encoded data removed]",
            "text/plain": [
              "<Figure size 864x360 with 2 Axes>"
            ]
          },
          "metadata": {
            "tags": [],
            "needs_background": "light"
          }
        }
      ]
    },
    {
      "cell_type": "markdown",
      "metadata": {
        "id": "mIZhgRty72W-"
      },
      "source": [
        "Finalmente, se probaron todos los modelos con el subset de test."
      ],
      "id": "mIZhgRty72W-"
    },
    {
      "cell_type": "markdown",
      "metadata": {
        "id": "ZGrNhmNsCiYH"
      },
      "source": [
        "Con respecto al primer modelo, se puede ver que la métrica principal AUC es de 0.886, con un $F_2$ score de 0.8. Los resultados son favorables comparándolos con los obtenidos en train y validación."
      ],
      "id": "ZGrNhmNsCiYH"
    },
    {
      "cell_type": "code",
      "metadata": {
        "colab": {
          "base_uri": "https://localhost:8080/"
        },
        "id": "CtFxxif28x7D",
        "outputId": "d6ada781-0b24-42c5-c08a-6ea574f1d776"
      },
      "source": [
        "print('loss, AUC:', model.evaluate(test_data_r[train_cols], test_data_r['Outcome'], verbose = 0),'\\n')\n",
        "y_pred_test = model.predict(test_data_r[train_cols]).reshape(-1)\n",
        "names_test, vals_test = metrics(test_data_r['Outcome'].astype(bool), y_pred_test > max_th)\n",
        "print(names_test)\n",
        "print(vals_test)\n",
        "f2score_test = fb_score(test_data_r['Outcome'].astype(bool), y_pred_test > max_th, 2)\n",
        "print('\\nF2 score:', f2score_test)"
      ],
      "id": "CtFxxif28x7D",
      "execution_count": null,
      "outputs": [
        {
          "output_type": "stream",
          "text": [
            "loss, AUC: [0.41156452894210815, 0.8862596154212952] \n",
            "\n",
            "['Acc', 'Sensib', 'Specif', 'VpPos', 'VpNeg']\n",
            "[0.61688312 1.         0.44859813 0.44339623 1.        ]\n",
            "\n",
            "F2 score: 0.7993197278911565\n"
          ],
          "name": "stdout"
        }
      ]
    },
    {
      "cell_type": "markdown",
      "metadata": {
        "id": "gI-c2akxC1N2"
      },
      "source": [
        "Para el modelo de los features polinomiales, el AUC de test es menor que en el modelo anterior pero el $F_2$ score es mayor. Además, las métricas secundarias son mayores. "
      ],
      "id": "gI-c2akxC1N2"
    },
    {
      "cell_type": "code",
      "metadata": {
        "colab": {
          "base_uri": "https://localhost:8080/"
        },
        "id": "QtXVo1Y59AfG",
        "outputId": "733fad93-e474-4726-f571-8b029df07e9f"
      },
      "source": [
        "test_features, out_test = poly_and_normalize(test_data_r, train_cols, 'Outcome', istrain = False)\n",
        "print('loss, AUC:', model_2.evaluate(test_features, out_test, verbose = 0),'\\n')\n",
        "y_pred_test_2 = model_2.predict(test_features).reshape(-1)\n",
        "names_test_2, vals_test_2 = metrics(out_test.astype(bool), y_pred_test_2 > max_th_2)\n",
        "print(names_test_2)\n",
        "print(vals_test_2)\n",
        "f2score_test_2 = fb_score(out_test.astype(bool), y_pred_test_2 > max_th_2, 2)\n",
        "print('\\nF2 score:', f2score_test_2)"
      ],
      "id": "QtXVo1Y59AfG",
      "execution_count": null,
      "outputs": [
        {
          "output_type": "stream",
          "text": [
            "loss, AUC: [0.6289114356040955, 0.864784300327301] \n",
            "\n",
            "['Acc', 'Sensib', 'Specif', 'VpPos', 'VpNeg']\n",
            "[0.66233766 1.         0.51401869 0.47474747 1.        ]\n",
            "\n",
            "F2 score: 0.818815331010453\n"
          ],
          "name": "stdout"
        }
      ]
    },
    {
      "cell_type": "markdown",
      "metadata": {
        "id": "5uavkDi8DaS6"
      },
      "source": [
        "Por último, el modelo con MLP tuvo resultados intermedios. Por un lado presenta un AUC muy similar que en el caso de features polinomiales, y por otro lado, presenta un $F_2$ score como el primero. En cuanto a las métricas secundarias, son más similares al del primer caso."
      ],
      "id": "5uavkDi8DaS6"
    },
    {
      "cell_type": "code",
      "metadata": {
        "colab": {
          "base_uri": "https://localhost:8080/"
        },
        "id": "PoOayBTZBPIA",
        "outputId": "b6cb5131-7761-4cb8-a095-67ac7410236e"
      },
      "source": [
        "print('loss, AUC:', model_3.evaluate(test_data_r[train_cols], test_data_r['Outcome'], verbose = 0),'\\n')\n",
        "y_pred_test_3 = model_3.predict(test_data_r[train_cols]).reshape(-1)\n",
        "names_test_3, vals_test_3 = metrics(test_data_r['Outcome'].astype(bool), y_pred_test_3 > max_th_3)\n",
        "print(names_test_3)\n",
        "print(vals_test_3)\n",
        "f2score_test_3 = fb_score(test_data_r['Outcome'].astype(bool), y_pred_test_3 > max_th_3, 2)\n",
        "print('\\nF2 score:', f2score_test_3)"
      ],
      "id": "PoOayBTZBPIA",
      "execution_count": null,
      "outputs": [
        {
          "output_type": "stream",
          "text": [
            "loss, AUC: [0.4539213180541992, 0.8656790256500244] \n",
            "\n",
            "['Acc', 'Sensib', 'Specif', 'VpPos', 'VpNeg']\n",
            "[0.6038961  1.         0.42990654 0.43518519 1.        ]\n",
            "\n",
            "F2 score: 0.793918918918919\n"
          ],
          "name": "stdout"
        }
      ]
    },
    {
      "cell_type": "markdown",
      "metadata": {
        "id": "BLIaAIToCWQM"
      },
      "source": [
        "Teniendo en cuenta los resultados anteriores, considerando los resultados de la métrica principal y de las secundarias, se considera que el mejor modelo para este problema es el de features polinomiales, cuyas métricas son:\n",
        "\n",
        "Métrica principal:\n",
        "*   AUC: 0.865\n",
        "\n",
        "Métricas secundarias:\n",
        "*   $F_2$ score: 0.819\n",
        "*   Accuracy: 66.23%\n",
        "*   Sensibilidad: 100%\n",
        "*   Especificidad: 51.40%\n",
        "*   Valor predictivo positivo: 47.47%\n",
        "*   Valor predictivo negativo: 100%"
      ],
      "id": "BLIaAIToCWQM"
    }
  ]
}